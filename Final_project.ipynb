{
 "cells": [
  {
   "cell_type": "markdown",
   "metadata": {
    "id": "hNDUbUhedoSj"
   },
   "source": [
    "# S2I: Data Science Final Project - Travel"
   ]
  },
  {
   "cell_type": "markdown",
   "metadata": {
    "id": "hZjJaV1rzarW"
   },
   "source": [
    "Data science final project: Travel - Luca Ganzedda\n",
    "\n",
    "The aim of the project is to analyze the customer satisfaction of an airline company\n",
    "\n",
    "Before joining the EDA, let's breakdown the problem.\n",
    "- What is the problem?\n",
    "An airline company has asked to us to check how the satisfaction of the clients is affected. They want to understand how they can improve their services based on a client survey.\n",
    "- Why does the problem need to be solved?\n",
    "The company wants to increase the overall satisfaction of its customers and the General manager needs input for the next business planning of the airline company. \n",
    "Another reason is to increase revenue, to raise the overal image of the company, and to improve the service & products.\n",
    "\n",
    "\n",
    "\n",
    "\n",
    "\n"
   ]
  },
  {
   "cell_type": "markdown",
   "metadata": {
    "id": "QknybBIjd8H1"
   },
   "source": [
    "#EDA: Introduction to the Exploratory Data analysis\n",
    "\n",
    "EDA - exploraty data analysis.\n",
    "\n",
    "We have 2 dataset:\n",
    "- Train\n",
    "- Test\n",
    "\n",
    "For the EDA, we'll combine all dataset and we start to explore the dataset.\n",
    "\n",
    "Steps:\n",
    "\n",
    "\n",
    "1.   Analyze overal dataset dataset. \n",
    "  - Take a look on which features we have. \n",
    "  - Classify them (quantitative or qualitative. Numeric or categorical, Numeric: continuous or discrete Categorical: ordinal or nominal)\n",
    "  \n",
    "2. Dive into each features\n",
    "  - Check & handle duplicate date\n",
    "  - Check & handle missing data\n",
    "  - Statistical analysis\n",
    "  - Graph analysis\n",
    "3. Make question relevants to the problem.\n",
    "  - Check variable that we need for answering\n",
    "  - Compute statistics metrics\n",
    "  - Graph analysis (if needed)\n",
    "  - Elaborte answer\n",
    "4. Feature engineering:\n",
    "  - Split train & test set\n",
    "  - Encode nominal categorical variable\n",
    "  - Encode continous numeric variable \n",
    "\n",
    "5. Feature Selections: Analyze correlation between variables\n",
    "  - Multicollinearity (numeric variable)\n",
    "  - Feature importance Y as main benchmark:\n",
    "    - Pearson correlation: numeric variable \n",
    "    - Chi2: nominal variable\n",
    "  - Underline key findings \n",
    "\n",
    "\n"
   ]
  },
  {
   "cell_type": "markdown",
   "metadata": {
    "id": "vdD29bluzara"
   },
   "source": [
    "## Analyze dataset"
   ]
  },
  {
   "cell_type": "code",
   "execution_count": 1,
   "metadata": {
    "id": "xcU5tyHNzard"
   },
   "outputs": [],
   "source": [
    "import numpy as np\n",
    "import pandas as pd\n",
    "import matplotlib.pyplot as plt\n",
    "import seaborn as sns\n",
    "import random\n",
    "\n",
    "\n",
    "#ignore warnings\n",
    "import warnings\n",
    "warnings.filterwarnings('ignore') \n",
    "\n",
    "#basic graphical setting\n",
    "sns.set() \n",
    "\n"
   ]
  },
  {
   "cell_type": "code",
   "execution_count": 2,
   "metadata": {
    "colab": {
     "base_uri": "https://localhost:8080/",
     "height": 433
    },
    "executionInfo": {
     "elapsed": 868,
     "status": "ok",
     "timestamp": 1677942815526,
     "user": {
      "displayName": "Luca Ganzedda",
      "userId": "02068572815256769199"
     },
     "user_tz": -60
    },
    "id": "otffnm1Wzarf",
    "outputId": "948b0448-f7a7-40ae-cff3-778e44c393e3"
   },
   "outputs": [
    {
     "data": {
      "text/html": [
       "<div>\n",
       "<style scoped>\n",
       "    .dataframe tbody tr th:only-of-type {\n",
       "        vertical-align: middle;\n",
       "    }\n",
       "\n",
       "    .dataframe tbody tr th {\n",
       "        vertical-align: top;\n",
       "    }\n",
       "\n",
       "    .dataframe thead th {\n",
       "        text-align: right;\n",
       "    }\n",
       "</style>\n",
       "<table border=\"1\" class=\"dataframe\">\n",
       "  <thead>\n",
       "    <tr style=\"text-align: right;\">\n",
       "      <th></th>\n",
       "      <th>Unnamed: 0</th>\n",
       "      <th>id</th>\n",
       "      <th>Gender</th>\n",
       "      <th>Customer Type</th>\n",
       "      <th>Age</th>\n",
       "      <th>Type of Travel</th>\n",
       "      <th>Class</th>\n",
       "      <th>Flight Distance</th>\n",
       "      <th>Inflight wifi service</th>\n",
       "      <th>Departure/Arrival time convenient</th>\n",
       "      <th>...</th>\n",
       "      <th>Inflight entertainment</th>\n",
       "      <th>On-board service</th>\n",
       "      <th>Leg room service</th>\n",
       "      <th>Baggage handling</th>\n",
       "      <th>Checkin service</th>\n",
       "      <th>Inflight service</th>\n",
       "      <th>Cleanliness</th>\n",
       "      <th>Departure Delay in Minutes</th>\n",
       "      <th>Arrival Delay in Minutes</th>\n",
       "      <th>satisfaction</th>\n",
       "    </tr>\n",
       "  </thead>\n",
       "  <tbody>\n",
       "    <tr>\n",
       "      <th>0</th>\n",
       "      <td>0</td>\n",
       "      <td>70172</td>\n",
       "      <td>Male</td>\n",
       "      <td>Loyal Customer</td>\n",
       "      <td>13</td>\n",
       "      <td>Personal Travel</td>\n",
       "      <td>Eco Plus</td>\n",
       "      <td>460</td>\n",
       "      <td>3</td>\n",
       "      <td>4</td>\n",
       "      <td>...</td>\n",
       "      <td>5</td>\n",
       "      <td>4</td>\n",
       "      <td>3</td>\n",
       "      <td>4</td>\n",
       "      <td>4</td>\n",
       "      <td>5</td>\n",
       "      <td>5</td>\n",
       "      <td>25</td>\n",
       "      <td>18.0</td>\n",
       "      <td>neutral or dissatisfied</td>\n",
       "    </tr>\n",
       "    <tr>\n",
       "      <th>1</th>\n",
       "      <td>1</td>\n",
       "      <td>5047</td>\n",
       "      <td>Male</td>\n",
       "      <td>disloyal Customer</td>\n",
       "      <td>25</td>\n",
       "      <td>Business travel</td>\n",
       "      <td>Business</td>\n",
       "      <td>235</td>\n",
       "      <td>3</td>\n",
       "      <td>2</td>\n",
       "      <td>...</td>\n",
       "      <td>1</td>\n",
       "      <td>1</td>\n",
       "      <td>5</td>\n",
       "      <td>3</td>\n",
       "      <td>1</td>\n",
       "      <td>4</td>\n",
       "      <td>1</td>\n",
       "      <td>1</td>\n",
       "      <td>6.0</td>\n",
       "      <td>neutral or dissatisfied</td>\n",
       "    </tr>\n",
       "    <tr>\n",
       "      <th>2</th>\n",
       "      <td>2</td>\n",
       "      <td>110028</td>\n",
       "      <td>Female</td>\n",
       "      <td>Loyal Customer</td>\n",
       "      <td>26</td>\n",
       "      <td>Business travel</td>\n",
       "      <td>Business</td>\n",
       "      <td>1142</td>\n",
       "      <td>2</td>\n",
       "      <td>2</td>\n",
       "      <td>...</td>\n",
       "      <td>5</td>\n",
       "      <td>4</td>\n",
       "      <td>3</td>\n",
       "      <td>4</td>\n",
       "      <td>4</td>\n",
       "      <td>4</td>\n",
       "      <td>5</td>\n",
       "      <td>0</td>\n",
       "      <td>0.0</td>\n",
       "      <td>satisfied</td>\n",
       "    </tr>\n",
       "    <tr>\n",
       "      <th>3</th>\n",
       "      <td>3</td>\n",
       "      <td>24026</td>\n",
       "      <td>Female</td>\n",
       "      <td>Loyal Customer</td>\n",
       "      <td>25</td>\n",
       "      <td>Business travel</td>\n",
       "      <td>Business</td>\n",
       "      <td>562</td>\n",
       "      <td>2</td>\n",
       "      <td>5</td>\n",
       "      <td>...</td>\n",
       "      <td>2</td>\n",
       "      <td>2</td>\n",
       "      <td>5</td>\n",
       "      <td>3</td>\n",
       "      <td>1</td>\n",
       "      <td>4</td>\n",
       "      <td>2</td>\n",
       "      <td>11</td>\n",
       "      <td>9.0</td>\n",
       "      <td>neutral or dissatisfied</td>\n",
       "    </tr>\n",
       "    <tr>\n",
       "      <th>4</th>\n",
       "      <td>4</td>\n",
       "      <td>119299</td>\n",
       "      <td>Male</td>\n",
       "      <td>Loyal Customer</td>\n",
       "      <td>61</td>\n",
       "      <td>Business travel</td>\n",
       "      <td>Business</td>\n",
       "      <td>214</td>\n",
       "      <td>3</td>\n",
       "      <td>3</td>\n",
       "      <td>...</td>\n",
       "      <td>3</td>\n",
       "      <td>3</td>\n",
       "      <td>4</td>\n",
       "      <td>4</td>\n",
       "      <td>3</td>\n",
       "      <td>3</td>\n",
       "      <td>3</td>\n",
       "      <td>0</td>\n",
       "      <td>0.0</td>\n",
       "      <td>satisfied</td>\n",
       "    </tr>\n",
       "  </tbody>\n",
       "</table>\n",
       "<p>5 rows × 25 columns</p>\n",
       "</div>"
      ],
      "text/plain": [
       "   Unnamed: 0      id  Gender      Customer Type  Age   Type of Travel  \\\n",
       "0           0   70172    Male     Loyal Customer   13  Personal Travel   \n",
       "1           1    5047    Male  disloyal Customer   25  Business travel   \n",
       "2           2  110028  Female     Loyal Customer   26  Business travel   \n",
       "3           3   24026  Female     Loyal Customer   25  Business travel   \n",
       "4           4  119299    Male     Loyal Customer   61  Business travel   \n",
       "\n",
       "      Class  Flight Distance  Inflight wifi service  \\\n",
       "0  Eco Plus              460                      3   \n",
       "1  Business              235                      3   \n",
       "2  Business             1142                      2   \n",
       "3  Business              562                      2   \n",
       "4  Business              214                      3   \n",
       "\n",
       "   Departure/Arrival time convenient  ...  Inflight entertainment  \\\n",
       "0                                  4  ...                       5   \n",
       "1                                  2  ...                       1   \n",
       "2                                  2  ...                       5   \n",
       "3                                  5  ...                       2   \n",
       "4                                  3  ...                       3   \n",
       "\n",
       "   On-board service  Leg room service  Baggage handling  Checkin service  \\\n",
       "0                 4                 3                 4                4   \n",
       "1                 1                 5                 3                1   \n",
       "2                 4                 3                 4                4   \n",
       "3                 2                 5                 3                1   \n",
       "4                 3                 4                 4                3   \n",
       "\n",
       "   Inflight service  Cleanliness  Departure Delay in Minutes  \\\n",
       "0                 5            5                          25   \n",
       "1                 4            1                           1   \n",
       "2                 4            5                           0   \n",
       "3                 4            2                          11   \n",
       "4                 3            3                           0   \n",
       "\n",
       "   Arrival Delay in Minutes             satisfaction  \n",
       "0                      18.0  neutral or dissatisfied  \n",
       "1                       6.0  neutral or dissatisfied  \n",
       "2                       0.0                satisfied  \n",
       "3                       9.0  neutral or dissatisfied  \n",
       "4                       0.0                satisfied  \n",
       "\n",
       "[5 rows x 25 columns]"
      ]
     },
     "execution_count": 2,
     "metadata": {},
     "output_type": "execute_result"
    }
   ],
   "source": [
    "#import dataset\n",
    "df_train = pd.read_csv('train.csv')\n",
    "df_test = pd.read_csv('test.csv')\n",
    "\n",
    "#check train dataset\n",
    "df_train.head()"
   ]
  },
  {
   "cell_type": "code",
   "execution_count": 3,
   "metadata": {
    "colab": {
     "base_uri": "https://localhost:8080/",
     "height": 433
    },
    "executionInfo": {
     "elapsed": 28,
     "status": "ok",
     "timestamp": 1677942815527,
     "user": {
      "displayName": "Luca Ganzedda",
      "userId": "02068572815256769199"
     },
     "user_tz": -60
    },
    "id": "DIHBbWZBzarg",
    "outputId": "514864c3-2bbc-4a24-8352-679868e5e7b6"
   },
   "outputs": [
    {
     "data": {
      "text/html": [
       "<div>\n",
       "<style scoped>\n",
       "    .dataframe tbody tr th:only-of-type {\n",
       "        vertical-align: middle;\n",
       "    }\n",
       "\n",
       "    .dataframe tbody tr th {\n",
       "        vertical-align: top;\n",
       "    }\n",
       "\n",
       "    .dataframe thead th {\n",
       "        text-align: right;\n",
       "    }\n",
       "</style>\n",
       "<table border=\"1\" class=\"dataframe\">\n",
       "  <thead>\n",
       "    <tr style=\"text-align: right;\">\n",
       "      <th></th>\n",
       "      <th>Unnamed: 0</th>\n",
       "      <th>id</th>\n",
       "      <th>Gender</th>\n",
       "      <th>Customer Type</th>\n",
       "      <th>Age</th>\n",
       "      <th>Type of Travel</th>\n",
       "      <th>Class</th>\n",
       "      <th>Flight Distance</th>\n",
       "      <th>Inflight wifi service</th>\n",
       "      <th>Departure/Arrival time convenient</th>\n",
       "      <th>...</th>\n",
       "      <th>Inflight entertainment</th>\n",
       "      <th>On-board service</th>\n",
       "      <th>Leg room service</th>\n",
       "      <th>Baggage handling</th>\n",
       "      <th>Checkin service</th>\n",
       "      <th>Inflight service</th>\n",
       "      <th>Cleanliness</th>\n",
       "      <th>Departure Delay in Minutes</th>\n",
       "      <th>Arrival Delay in Minutes</th>\n",
       "      <th>satisfaction</th>\n",
       "    </tr>\n",
       "  </thead>\n",
       "  <tbody>\n",
       "    <tr>\n",
       "      <th>0</th>\n",
       "      <td>0</td>\n",
       "      <td>19556</td>\n",
       "      <td>Female</td>\n",
       "      <td>Loyal Customer</td>\n",
       "      <td>52</td>\n",
       "      <td>Business travel</td>\n",
       "      <td>Eco</td>\n",
       "      <td>160</td>\n",
       "      <td>5</td>\n",
       "      <td>4</td>\n",
       "      <td>...</td>\n",
       "      <td>5</td>\n",
       "      <td>5</td>\n",
       "      <td>5</td>\n",
       "      <td>5</td>\n",
       "      <td>2</td>\n",
       "      <td>5</td>\n",
       "      <td>5</td>\n",
       "      <td>50</td>\n",
       "      <td>44.0</td>\n",
       "      <td>satisfied</td>\n",
       "    </tr>\n",
       "    <tr>\n",
       "      <th>1</th>\n",
       "      <td>1</td>\n",
       "      <td>90035</td>\n",
       "      <td>Female</td>\n",
       "      <td>Loyal Customer</td>\n",
       "      <td>36</td>\n",
       "      <td>Business travel</td>\n",
       "      <td>Business</td>\n",
       "      <td>2863</td>\n",
       "      <td>1</td>\n",
       "      <td>1</td>\n",
       "      <td>...</td>\n",
       "      <td>4</td>\n",
       "      <td>4</td>\n",
       "      <td>4</td>\n",
       "      <td>4</td>\n",
       "      <td>3</td>\n",
       "      <td>4</td>\n",
       "      <td>5</td>\n",
       "      <td>0</td>\n",
       "      <td>0.0</td>\n",
       "      <td>satisfied</td>\n",
       "    </tr>\n",
       "    <tr>\n",
       "      <th>2</th>\n",
       "      <td>2</td>\n",
       "      <td>12360</td>\n",
       "      <td>Male</td>\n",
       "      <td>disloyal Customer</td>\n",
       "      <td>20</td>\n",
       "      <td>Business travel</td>\n",
       "      <td>Eco</td>\n",
       "      <td>192</td>\n",
       "      <td>2</td>\n",
       "      <td>0</td>\n",
       "      <td>...</td>\n",
       "      <td>2</td>\n",
       "      <td>4</td>\n",
       "      <td>1</td>\n",
       "      <td>3</td>\n",
       "      <td>2</td>\n",
       "      <td>2</td>\n",
       "      <td>2</td>\n",
       "      <td>0</td>\n",
       "      <td>0.0</td>\n",
       "      <td>neutral or dissatisfied</td>\n",
       "    </tr>\n",
       "    <tr>\n",
       "      <th>3</th>\n",
       "      <td>3</td>\n",
       "      <td>77959</td>\n",
       "      <td>Male</td>\n",
       "      <td>Loyal Customer</td>\n",
       "      <td>44</td>\n",
       "      <td>Business travel</td>\n",
       "      <td>Business</td>\n",
       "      <td>3377</td>\n",
       "      <td>0</td>\n",
       "      <td>0</td>\n",
       "      <td>...</td>\n",
       "      <td>1</td>\n",
       "      <td>1</td>\n",
       "      <td>1</td>\n",
       "      <td>1</td>\n",
       "      <td>3</td>\n",
       "      <td>1</td>\n",
       "      <td>4</td>\n",
       "      <td>0</td>\n",
       "      <td>6.0</td>\n",
       "      <td>satisfied</td>\n",
       "    </tr>\n",
       "    <tr>\n",
       "      <th>4</th>\n",
       "      <td>4</td>\n",
       "      <td>36875</td>\n",
       "      <td>Female</td>\n",
       "      <td>Loyal Customer</td>\n",
       "      <td>49</td>\n",
       "      <td>Business travel</td>\n",
       "      <td>Eco</td>\n",
       "      <td>1182</td>\n",
       "      <td>2</td>\n",
       "      <td>3</td>\n",
       "      <td>...</td>\n",
       "      <td>2</td>\n",
       "      <td>2</td>\n",
       "      <td>2</td>\n",
       "      <td>2</td>\n",
       "      <td>4</td>\n",
       "      <td>2</td>\n",
       "      <td>4</td>\n",
       "      <td>0</td>\n",
       "      <td>20.0</td>\n",
       "      <td>satisfied</td>\n",
       "    </tr>\n",
       "  </tbody>\n",
       "</table>\n",
       "<p>5 rows × 25 columns</p>\n",
       "</div>"
      ],
      "text/plain": [
       "   Unnamed: 0     id  Gender      Customer Type  Age   Type of Travel  \\\n",
       "0           0  19556  Female     Loyal Customer   52  Business travel   \n",
       "1           1  90035  Female     Loyal Customer   36  Business travel   \n",
       "2           2  12360    Male  disloyal Customer   20  Business travel   \n",
       "3           3  77959    Male     Loyal Customer   44  Business travel   \n",
       "4           4  36875  Female     Loyal Customer   49  Business travel   \n",
       "\n",
       "      Class  Flight Distance  Inflight wifi service  \\\n",
       "0       Eco              160                      5   \n",
       "1  Business             2863                      1   \n",
       "2       Eco              192                      2   \n",
       "3  Business             3377                      0   \n",
       "4       Eco             1182                      2   \n",
       "\n",
       "   Departure/Arrival time convenient  ...  Inflight entertainment  \\\n",
       "0                                  4  ...                       5   \n",
       "1                                  1  ...                       4   \n",
       "2                                  0  ...                       2   \n",
       "3                                  0  ...                       1   \n",
       "4                                  3  ...                       2   \n",
       "\n",
       "   On-board service  Leg room service  Baggage handling  Checkin service  \\\n",
       "0                 5                 5                 5                2   \n",
       "1                 4                 4                 4                3   \n",
       "2                 4                 1                 3                2   \n",
       "3                 1                 1                 1                3   \n",
       "4                 2                 2                 2                4   \n",
       "\n",
       "   Inflight service  Cleanliness  Departure Delay in Minutes  \\\n",
       "0                 5            5                          50   \n",
       "1                 4            5                           0   \n",
       "2                 2            2                           0   \n",
       "3                 1            4                           0   \n",
       "4                 2            4                           0   \n",
       "\n",
       "   Arrival Delay in Minutes             satisfaction  \n",
       "0                      44.0                satisfied  \n",
       "1                       0.0                satisfied  \n",
       "2                       0.0  neutral or dissatisfied  \n",
       "3                       6.0                satisfied  \n",
       "4                      20.0                satisfied  \n",
       "\n",
       "[5 rows x 25 columns]"
      ]
     },
     "execution_count": 3,
     "metadata": {},
     "output_type": "execute_result"
    }
   ],
   "source": [
    "#check test dataset\n",
    "df_test.head()"
   ]
  },
  {
   "cell_type": "markdown",
   "metadata": {
    "id": "MgCxv-0yzarh"
   },
   "source": [
    "We have both a train and test dataset. For the EDA, I prefer to use the entire dataset available to me to gain a thorough understanding of the data"
   ]
  },
  {
   "cell_type": "code",
   "execution_count": 4,
   "metadata": {
    "colab": {
     "base_uri": "https://localhost:8080/",
     "height": 433
    },
    "executionInfo": {
     "elapsed": 26,
     "status": "ok",
     "timestamp": 1677942815528,
     "user": {
      "displayName": "Luca Ganzedda",
      "userId": "02068572815256769199"
     },
     "user_tz": -60
    },
    "id": "_QZtCfQizari",
    "outputId": "5006fc46-8ad3-403a-d65d-8b6fbf4984f8",
    "scrolled": true
   },
   "outputs": [
    {
     "data": {
      "text/html": [
       "<div>\n",
       "<style scoped>\n",
       "    .dataframe tbody tr th:only-of-type {\n",
       "        vertical-align: middle;\n",
       "    }\n",
       "\n",
       "    .dataframe tbody tr th {\n",
       "        vertical-align: top;\n",
       "    }\n",
       "\n",
       "    .dataframe thead th {\n",
       "        text-align: right;\n",
       "    }\n",
       "</style>\n",
       "<table border=\"1\" class=\"dataframe\">\n",
       "  <thead>\n",
       "    <tr style=\"text-align: right;\">\n",
       "      <th></th>\n",
       "      <th>Unnamed: 0</th>\n",
       "      <th>id</th>\n",
       "      <th>Gender</th>\n",
       "      <th>Customer Type</th>\n",
       "      <th>Age</th>\n",
       "      <th>Type of Travel</th>\n",
       "      <th>Class</th>\n",
       "      <th>Flight Distance</th>\n",
       "      <th>Inflight wifi service</th>\n",
       "      <th>Departure/Arrival time convenient</th>\n",
       "      <th>...</th>\n",
       "      <th>Inflight entertainment</th>\n",
       "      <th>On-board service</th>\n",
       "      <th>Leg room service</th>\n",
       "      <th>Baggage handling</th>\n",
       "      <th>Checkin service</th>\n",
       "      <th>Inflight service</th>\n",
       "      <th>Cleanliness</th>\n",
       "      <th>Departure Delay in Minutes</th>\n",
       "      <th>Arrival Delay in Minutes</th>\n",
       "      <th>satisfaction</th>\n",
       "    </tr>\n",
       "  </thead>\n",
       "  <tbody>\n",
       "    <tr>\n",
       "      <th>0</th>\n",
       "      <td>0</td>\n",
       "      <td>19556</td>\n",
       "      <td>Female</td>\n",
       "      <td>Loyal Customer</td>\n",
       "      <td>52</td>\n",
       "      <td>Business travel</td>\n",
       "      <td>Eco</td>\n",
       "      <td>160</td>\n",
       "      <td>5</td>\n",
       "      <td>4</td>\n",
       "      <td>...</td>\n",
       "      <td>5</td>\n",
       "      <td>5</td>\n",
       "      <td>5</td>\n",
       "      <td>5</td>\n",
       "      <td>2</td>\n",
       "      <td>5</td>\n",
       "      <td>5</td>\n",
       "      <td>50</td>\n",
       "      <td>44.0</td>\n",
       "      <td>satisfied</td>\n",
       "    </tr>\n",
       "    <tr>\n",
       "      <th>1</th>\n",
       "      <td>1</td>\n",
       "      <td>90035</td>\n",
       "      <td>Female</td>\n",
       "      <td>Loyal Customer</td>\n",
       "      <td>36</td>\n",
       "      <td>Business travel</td>\n",
       "      <td>Business</td>\n",
       "      <td>2863</td>\n",
       "      <td>1</td>\n",
       "      <td>1</td>\n",
       "      <td>...</td>\n",
       "      <td>4</td>\n",
       "      <td>4</td>\n",
       "      <td>4</td>\n",
       "      <td>4</td>\n",
       "      <td>3</td>\n",
       "      <td>4</td>\n",
       "      <td>5</td>\n",
       "      <td>0</td>\n",
       "      <td>0.0</td>\n",
       "      <td>satisfied</td>\n",
       "    </tr>\n",
       "    <tr>\n",
       "      <th>2</th>\n",
       "      <td>2</td>\n",
       "      <td>12360</td>\n",
       "      <td>Male</td>\n",
       "      <td>disloyal Customer</td>\n",
       "      <td>20</td>\n",
       "      <td>Business travel</td>\n",
       "      <td>Eco</td>\n",
       "      <td>192</td>\n",
       "      <td>2</td>\n",
       "      <td>0</td>\n",
       "      <td>...</td>\n",
       "      <td>2</td>\n",
       "      <td>4</td>\n",
       "      <td>1</td>\n",
       "      <td>3</td>\n",
       "      <td>2</td>\n",
       "      <td>2</td>\n",
       "      <td>2</td>\n",
       "      <td>0</td>\n",
       "      <td>0.0</td>\n",
       "      <td>neutral or dissatisfied</td>\n",
       "    </tr>\n",
       "    <tr>\n",
       "      <th>3</th>\n",
       "      <td>3</td>\n",
       "      <td>77959</td>\n",
       "      <td>Male</td>\n",
       "      <td>Loyal Customer</td>\n",
       "      <td>44</td>\n",
       "      <td>Business travel</td>\n",
       "      <td>Business</td>\n",
       "      <td>3377</td>\n",
       "      <td>0</td>\n",
       "      <td>0</td>\n",
       "      <td>...</td>\n",
       "      <td>1</td>\n",
       "      <td>1</td>\n",
       "      <td>1</td>\n",
       "      <td>1</td>\n",
       "      <td>3</td>\n",
       "      <td>1</td>\n",
       "      <td>4</td>\n",
       "      <td>0</td>\n",
       "      <td>6.0</td>\n",
       "      <td>satisfied</td>\n",
       "    </tr>\n",
       "    <tr>\n",
       "      <th>4</th>\n",
       "      <td>4</td>\n",
       "      <td>36875</td>\n",
       "      <td>Female</td>\n",
       "      <td>Loyal Customer</td>\n",
       "      <td>49</td>\n",
       "      <td>Business travel</td>\n",
       "      <td>Eco</td>\n",
       "      <td>1182</td>\n",
       "      <td>2</td>\n",
       "      <td>3</td>\n",
       "      <td>...</td>\n",
       "      <td>2</td>\n",
       "      <td>2</td>\n",
       "      <td>2</td>\n",
       "      <td>2</td>\n",
       "      <td>4</td>\n",
       "      <td>2</td>\n",
       "      <td>4</td>\n",
       "      <td>0</td>\n",
       "      <td>20.0</td>\n",
       "      <td>satisfied</td>\n",
       "    </tr>\n",
       "  </tbody>\n",
       "</table>\n",
       "<p>5 rows × 25 columns</p>\n",
       "</div>"
      ],
      "text/plain": [
       "   Unnamed: 0     id  Gender      Customer Type  Age   Type of Travel  \\\n",
       "0           0  19556  Female     Loyal Customer   52  Business travel   \n",
       "1           1  90035  Female     Loyal Customer   36  Business travel   \n",
       "2           2  12360    Male  disloyal Customer   20  Business travel   \n",
       "3           3  77959    Male     Loyal Customer   44  Business travel   \n",
       "4           4  36875  Female     Loyal Customer   49  Business travel   \n",
       "\n",
       "      Class  Flight Distance  Inflight wifi service  \\\n",
       "0       Eco              160                      5   \n",
       "1  Business             2863                      1   \n",
       "2       Eco              192                      2   \n",
       "3  Business             3377                      0   \n",
       "4       Eco             1182                      2   \n",
       "\n",
       "   Departure/Arrival time convenient  ...  Inflight entertainment  \\\n",
       "0                                  4  ...                       5   \n",
       "1                                  1  ...                       4   \n",
       "2                                  0  ...                       2   \n",
       "3                                  0  ...                       1   \n",
       "4                                  3  ...                       2   \n",
       "\n",
       "   On-board service  Leg room service  Baggage handling  Checkin service  \\\n",
       "0                 5                 5                 5                2   \n",
       "1                 4                 4                 4                3   \n",
       "2                 4                 1                 3                2   \n",
       "3                 1                 1                 1                3   \n",
       "4                 2                 2                 2                4   \n",
       "\n",
       "   Inflight service  Cleanliness  Departure Delay in Minutes  \\\n",
       "0                 5            5                          50   \n",
       "1                 4            5                           0   \n",
       "2                 2            2                           0   \n",
       "3                 1            4                           0   \n",
       "4                 2            4                           0   \n",
       "\n",
       "   Arrival Delay in Minutes             satisfaction  \n",
       "0                      44.0                satisfied  \n",
       "1                       0.0                satisfied  \n",
       "2                       0.0  neutral or dissatisfied  \n",
       "3                       6.0                satisfied  \n",
       "4                      20.0                satisfied  \n",
       "\n",
       "[5 rows x 25 columns]"
      ]
     },
     "execution_count": 4,
     "metadata": {},
     "output_type": "execute_result"
    }
   ],
   "source": [
    "#merging the 2 dataset\n",
    "df = pd.concat([df_test, df_train], axis = 0)\n",
    "df.head()"
   ]
  },
  {
   "cell_type": "markdown",
   "metadata": {
    "id": "Fg8AEGoPzarj"
   },
   "source": [
    "The indices are duplicated, as we have both a Dataset index and an \"Unnamed: 0\" column. Before removing the \"Unnamed: 0\" column, we should check if there are any duplicates in the index."
   ]
  },
  {
   "cell_type": "code",
   "execution_count": 5,
   "metadata": {
    "colab": {
     "base_uri": "https://localhost:8080/"
    },
    "executionInfo": {
     "elapsed": 25,
     "status": "ok",
     "timestamp": 1677942815529,
     "user": {
      "displayName": "Luca Ganzedda",
      "userId": "02068572815256769199"
     },
     "user_tz": -60
    },
    "id": "77ylJLcgzark",
    "outputId": "8b879a2e-9c3d-4423-cbfe-a01382300f06"
   },
   "outputs": [
    {
     "data": {
      "text/plain": [
       "False"
      ]
     },
     "execution_count": 5,
     "metadata": {},
     "output_type": "execute_result"
    }
   ],
   "source": [
    "#check if there are some duplicate in client id. I want to use this as index\n",
    "df.duplicated(subset = 'id').any()"
   ]
  },
  {
   "cell_type": "markdown",
   "metadata": {
    "id": "T1SCCuAszarl"
   },
   "source": [
    "Ok no duplicate. I'll use id as index, I'll remove all these column:\n",
    "- Unnamed: 0\n",
    "- index\n",
    "I'll change the name of id = client_id"
   ]
  },
  {
   "cell_type": "code",
   "execution_count": 6,
   "metadata": {
    "id": "wJ7Mptiizarm"
   },
   "outputs": [],
   "source": [
    "#change id column name\n",
    "df = df.rename(columns = {'id':'client_id'})\n",
    "#set index\n",
    "df = df.set_index('client_id')\n",
    "#drop the the unnamed column\n",
    "df = df.drop('Unnamed: 0', axis = 1)"
   ]
  },
  {
   "cell_type": "code",
   "execution_count": 7,
   "metadata": {
    "colab": {
     "base_uri": "https://localhost:8080/",
     "height": 464
    },
    "executionInfo": {
     "elapsed": 1225,
     "status": "ok",
     "timestamp": 1677942816740,
     "user": {
      "displayName": "Luca Ganzedda",
      "userId": "02068572815256769199"
     },
     "user_tz": -60
    },
    "id": "tYQGEsDZzarn",
    "outputId": "d33f216f-823b-4040-b66d-01db94c42560"
   },
   "outputs": [
    {
     "data": {
      "text/html": [
       "<div>\n",
       "<style scoped>\n",
       "    .dataframe tbody tr th:only-of-type {\n",
       "        vertical-align: middle;\n",
       "    }\n",
       "\n",
       "    .dataframe tbody tr th {\n",
       "        vertical-align: top;\n",
       "    }\n",
       "\n",
       "    .dataframe thead th {\n",
       "        text-align: right;\n",
       "    }\n",
       "</style>\n",
       "<table border=\"1\" class=\"dataframe\">\n",
       "  <thead>\n",
       "    <tr style=\"text-align: right;\">\n",
       "      <th></th>\n",
       "      <th>Gender</th>\n",
       "      <th>Customer Type</th>\n",
       "      <th>Age</th>\n",
       "      <th>Type of Travel</th>\n",
       "      <th>Class</th>\n",
       "      <th>Flight Distance</th>\n",
       "      <th>Inflight wifi service</th>\n",
       "      <th>Departure/Arrival time convenient</th>\n",
       "      <th>Ease of Online booking</th>\n",
       "      <th>Gate location</th>\n",
       "      <th>...</th>\n",
       "      <th>Inflight entertainment</th>\n",
       "      <th>On-board service</th>\n",
       "      <th>Leg room service</th>\n",
       "      <th>Baggage handling</th>\n",
       "      <th>Checkin service</th>\n",
       "      <th>Inflight service</th>\n",
       "      <th>Cleanliness</th>\n",
       "      <th>Departure Delay in Minutes</th>\n",
       "      <th>Arrival Delay in Minutes</th>\n",
       "      <th>satisfaction</th>\n",
       "    </tr>\n",
       "    <tr>\n",
       "      <th>client_id</th>\n",
       "      <th></th>\n",
       "      <th></th>\n",
       "      <th></th>\n",
       "      <th></th>\n",
       "      <th></th>\n",
       "      <th></th>\n",
       "      <th></th>\n",
       "      <th></th>\n",
       "      <th></th>\n",
       "      <th></th>\n",
       "      <th></th>\n",
       "      <th></th>\n",
       "      <th></th>\n",
       "      <th></th>\n",
       "      <th></th>\n",
       "      <th></th>\n",
       "      <th></th>\n",
       "      <th></th>\n",
       "      <th></th>\n",
       "      <th></th>\n",
       "      <th></th>\n",
       "    </tr>\n",
       "  </thead>\n",
       "  <tbody>\n",
       "    <tr>\n",
       "      <th>19556</th>\n",
       "      <td>Female</td>\n",
       "      <td>Loyal Customer</td>\n",
       "      <td>52</td>\n",
       "      <td>Business travel</td>\n",
       "      <td>Eco</td>\n",
       "      <td>160</td>\n",
       "      <td>5</td>\n",
       "      <td>4</td>\n",
       "      <td>3</td>\n",
       "      <td>4</td>\n",
       "      <td>...</td>\n",
       "      <td>5</td>\n",
       "      <td>5</td>\n",
       "      <td>5</td>\n",
       "      <td>5</td>\n",
       "      <td>2</td>\n",
       "      <td>5</td>\n",
       "      <td>5</td>\n",
       "      <td>50</td>\n",
       "      <td>44.0</td>\n",
       "      <td>satisfied</td>\n",
       "    </tr>\n",
       "    <tr>\n",
       "      <th>90035</th>\n",
       "      <td>Female</td>\n",
       "      <td>Loyal Customer</td>\n",
       "      <td>36</td>\n",
       "      <td>Business travel</td>\n",
       "      <td>Business</td>\n",
       "      <td>2863</td>\n",
       "      <td>1</td>\n",
       "      <td>1</td>\n",
       "      <td>3</td>\n",
       "      <td>1</td>\n",
       "      <td>...</td>\n",
       "      <td>4</td>\n",
       "      <td>4</td>\n",
       "      <td>4</td>\n",
       "      <td>4</td>\n",
       "      <td>3</td>\n",
       "      <td>4</td>\n",
       "      <td>5</td>\n",
       "      <td>0</td>\n",
       "      <td>0.0</td>\n",
       "      <td>satisfied</td>\n",
       "    </tr>\n",
       "    <tr>\n",
       "      <th>12360</th>\n",
       "      <td>Male</td>\n",
       "      <td>disloyal Customer</td>\n",
       "      <td>20</td>\n",
       "      <td>Business travel</td>\n",
       "      <td>Eco</td>\n",
       "      <td>192</td>\n",
       "      <td>2</td>\n",
       "      <td>0</td>\n",
       "      <td>2</td>\n",
       "      <td>4</td>\n",
       "      <td>...</td>\n",
       "      <td>2</td>\n",
       "      <td>4</td>\n",
       "      <td>1</td>\n",
       "      <td>3</td>\n",
       "      <td>2</td>\n",
       "      <td>2</td>\n",
       "      <td>2</td>\n",
       "      <td>0</td>\n",
       "      <td>0.0</td>\n",
       "      <td>neutral or dissatisfied</td>\n",
       "    </tr>\n",
       "    <tr>\n",
       "      <th>77959</th>\n",
       "      <td>Male</td>\n",
       "      <td>Loyal Customer</td>\n",
       "      <td>44</td>\n",
       "      <td>Business travel</td>\n",
       "      <td>Business</td>\n",
       "      <td>3377</td>\n",
       "      <td>0</td>\n",
       "      <td>0</td>\n",
       "      <td>0</td>\n",
       "      <td>2</td>\n",
       "      <td>...</td>\n",
       "      <td>1</td>\n",
       "      <td>1</td>\n",
       "      <td>1</td>\n",
       "      <td>1</td>\n",
       "      <td>3</td>\n",
       "      <td>1</td>\n",
       "      <td>4</td>\n",
       "      <td>0</td>\n",
       "      <td>6.0</td>\n",
       "      <td>satisfied</td>\n",
       "    </tr>\n",
       "    <tr>\n",
       "      <th>36875</th>\n",
       "      <td>Female</td>\n",
       "      <td>Loyal Customer</td>\n",
       "      <td>49</td>\n",
       "      <td>Business travel</td>\n",
       "      <td>Eco</td>\n",
       "      <td>1182</td>\n",
       "      <td>2</td>\n",
       "      <td>3</td>\n",
       "      <td>4</td>\n",
       "      <td>3</td>\n",
       "      <td>...</td>\n",
       "      <td>2</td>\n",
       "      <td>2</td>\n",
       "      <td>2</td>\n",
       "      <td>2</td>\n",
       "      <td>4</td>\n",
       "      <td>2</td>\n",
       "      <td>4</td>\n",
       "      <td>0</td>\n",
       "      <td>20.0</td>\n",
       "      <td>satisfied</td>\n",
       "    </tr>\n",
       "  </tbody>\n",
       "</table>\n",
       "<p>5 rows × 23 columns</p>\n",
       "</div>"
      ],
      "text/plain": [
       "           Gender      Customer Type  Age   Type of Travel     Class  \\\n",
       "client_id                                                              \n",
       "19556      Female     Loyal Customer   52  Business travel       Eco   \n",
       "90035      Female     Loyal Customer   36  Business travel  Business   \n",
       "12360        Male  disloyal Customer   20  Business travel       Eco   \n",
       "77959        Male     Loyal Customer   44  Business travel  Business   \n",
       "36875      Female     Loyal Customer   49  Business travel       Eco   \n",
       "\n",
       "           Flight Distance  Inflight wifi service  \\\n",
       "client_id                                           \n",
       "19556                  160                      5   \n",
       "90035                 2863                      1   \n",
       "12360                  192                      2   \n",
       "77959                 3377                      0   \n",
       "36875                 1182                      2   \n",
       "\n",
       "           Departure/Arrival time convenient  Ease of Online booking  \\\n",
       "client_id                                                              \n",
       "19556                                      4                       3   \n",
       "90035                                      1                       3   \n",
       "12360                                      0                       2   \n",
       "77959                                      0                       0   \n",
       "36875                                      3                       4   \n",
       "\n",
       "           Gate location  ...  Inflight entertainment  On-board service  \\\n",
       "client_id                 ...                                             \n",
       "19556                  4  ...                       5                 5   \n",
       "90035                  1  ...                       4                 4   \n",
       "12360                  4  ...                       2                 4   \n",
       "77959                  2  ...                       1                 1   \n",
       "36875                  3  ...                       2                 2   \n",
       "\n",
       "           Leg room service  Baggage handling  Checkin service  \\\n",
       "client_id                                                        \n",
       "19556                     5                 5                2   \n",
       "90035                     4                 4                3   \n",
       "12360                     1                 3                2   \n",
       "77959                     1                 1                3   \n",
       "36875                     2                 2                4   \n",
       "\n",
       "           Inflight service  Cleanliness  Departure Delay in Minutes  \\\n",
       "client_id                                                              \n",
       "19556                     5            5                          50   \n",
       "90035                     4            5                           0   \n",
       "12360                     2            2                           0   \n",
       "77959                     1            4                           0   \n",
       "36875                     2            4                           0   \n",
       "\n",
       "           Arrival Delay in Minutes             satisfaction  \n",
       "client_id                                                     \n",
       "19556                          44.0                satisfied  \n",
       "90035                           0.0                satisfied  \n",
       "12360                           0.0  neutral or dissatisfied  \n",
       "77959                           6.0                satisfied  \n",
       "36875                          20.0                satisfied  \n",
       "\n",
       "[5 rows x 23 columns]"
      ]
     },
     "execution_count": 7,
     "metadata": {},
     "output_type": "execute_result"
    }
   ],
   "source": [
    "df.head()"
   ]
  },
  {
   "cell_type": "code",
   "execution_count": 8,
   "metadata": {
    "colab": {
     "base_uri": "https://localhost:8080/"
    },
    "executionInfo": {
     "elapsed": 90,
     "status": "ok",
     "timestamp": 1677942816741,
     "user": {
      "displayName": "Luca Ganzedda",
      "userId": "02068572815256769199"
     },
     "user_tz": -60
    },
    "id": "HkRPRUxVzaro",
    "outputId": "07a9c3d2-8831-4de0-b941-6d49da7fb08f"
   },
   "outputs": [
    {
     "name": "stdout",
     "output_type": "stream",
     "text": [
      "<class 'pandas.core.frame.DataFrame'>\n",
      "Int64Index: 129880 entries, 19556 to 62567\n",
      "Data columns (total 23 columns):\n",
      " #   Column                             Non-Null Count   Dtype  \n",
      "---  ------                             --------------   -----  \n",
      " 0   Gender                             129880 non-null  object \n",
      " 1   Customer Type                      129880 non-null  object \n",
      " 2   Age                                129880 non-null  int64  \n",
      " 3   Type of Travel                     129880 non-null  object \n",
      " 4   Class                              129880 non-null  object \n",
      " 5   Flight Distance                    129880 non-null  int64  \n",
      " 6   Inflight wifi service              129880 non-null  int64  \n",
      " 7   Departure/Arrival time convenient  129880 non-null  int64  \n",
      " 8   Ease of Online booking             129880 non-null  int64  \n",
      " 9   Gate location                      129880 non-null  int64  \n",
      " 10  Food and drink                     129880 non-null  int64  \n",
      " 11  Online boarding                    129880 non-null  int64  \n",
      " 12  Seat comfort                       129880 non-null  int64  \n",
      " 13  Inflight entertainment             129880 non-null  int64  \n",
      " 14  On-board service                   129880 non-null  int64  \n",
      " 15  Leg room service                   129880 non-null  int64  \n",
      " 16  Baggage handling                   129880 non-null  int64  \n",
      " 17  Checkin service                    129880 non-null  int64  \n",
      " 18  Inflight service                   129880 non-null  int64  \n",
      " 19  Cleanliness                        129880 non-null  int64  \n",
      " 20  Departure Delay in Minutes         129880 non-null  int64  \n",
      " 21  Arrival Delay in Minutes           129487 non-null  float64\n",
      " 22  satisfaction                       129880 non-null  object \n",
      "dtypes: float64(1), int64(17), object(5)\n",
      "memory usage: 23.8+ MB\n"
     ]
    }
   ],
   "source": [
    "#Overal dataset info\n",
    "df.info()"
   ]
  },
  {
   "cell_type": "markdown",
   "metadata": {
    "id": "dxOXTd6ezarq"
   },
   "source": [
    "We have 129,880 entities in our dataset with 22 features, including our target variable \"y\" for satisfaction. From this information, it appears that the \"Arrival Delay in minutes\" variable has some null values, while all the other features seem to be in good condition. We can divide the nominal features as follows:\n",
    "\n",
    "- Numeric discrete: Age\n",
    "- Numeric continuous: Arrival delay in minutes, Departure delay in minutes\n",
    "- Categorical nominal: Gender, Customer Type, Type of Travel, Class\n",
    "- Categorical ordinal: all the others\n",
    "\n",
    "\n",
    "\n",
    "Note: I noticed a difference between the departure and arrival delay variables. Let's investigate these two variables."
   ]
  },
  {
   "cell_type": "code",
   "execution_count": 9,
   "metadata": {
    "colab": {
     "base_uri": "https://localhost:8080/",
     "height": 481
    },
    "executionInfo": {
     "elapsed": 82,
     "status": "ok",
     "timestamp": 1677942816742,
     "user": {
      "displayName": "Luca Ganzedda",
      "userId": "02068572815256769199"
     },
     "user_tz": -60
    },
    "id": "cw1b2OVyzarq",
    "outputId": "0672b0d0-afd5-43b6-a2a6-3220a1c16567"
   },
   "outputs": [
    {
     "name": "stdout",
     "output_type": "stream",
     "text": [
      "There are 393 null values, in the column \"Arrival Delay in Minutes\"\n"
     ]
    },
    {
     "data": {
      "text/html": [
       "<div>\n",
       "<style scoped>\n",
       "    .dataframe tbody tr th:only-of-type {\n",
       "        vertical-align: middle;\n",
       "    }\n",
       "\n",
       "    .dataframe tbody tr th {\n",
       "        vertical-align: top;\n",
       "    }\n",
       "\n",
       "    .dataframe thead th {\n",
       "        text-align: right;\n",
       "    }\n",
       "</style>\n",
       "<table border=\"1\" class=\"dataframe\">\n",
       "  <thead>\n",
       "    <tr style=\"text-align: right;\">\n",
       "      <th></th>\n",
       "      <th>Gender</th>\n",
       "      <th>Customer Type</th>\n",
       "      <th>Age</th>\n",
       "      <th>Type of Travel</th>\n",
       "      <th>Class</th>\n",
       "      <th>Flight Distance</th>\n",
       "      <th>Inflight wifi service</th>\n",
       "      <th>Departure/Arrival time convenient</th>\n",
       "      <th>Ease of Online booking</th>\n",
       "      <th>Gate location</th>\n",
       "      <th>...</th>\n",
       "      <th>Inflight entertainment</th>\n",
       "      <th>On-board service</th>\n",
       "      <th>Leg room service</th>\n",
       "      <th>Baggage handling</th>\n",
       "      <th>Checkin service</th>\n",
       "      <th>Inflight service</th>\n",
       "      <th>Cleanliness</th>\n",
       "      <th>Departure Delay in Minutes</th>\n",
       "      <th>Arrival Delay in Minutes</th>\n",
       "      <th>satisfaction</th>\n",
       "    </tr>\n",
       "    <tr>\n",
       "      <th>client_id</th>\n",
       "      <th></th>\n",
       "      <th></th>\n",
       "      <th></th>\n",
       "      <th></th>\n",
       "      <th></th>\n",
       "      <th></th>\n",
       "      <th></th>\n",
       "      <th></th>\n",
       "      <th></th>\n",
       "      <th></th>\n",
       "      <th></th>\n",
       "      <th></th>\n",
       "      <th></th>\n",
       "      <th></th>\n",
       "      <th></th>\n",
       "      <th></th>\n",
       "      <th></th>\n",
       "      <th></th>\n",
       "      <th></th>\n",
       "      <th></th>\n",
       "      <th></th>\n",
       "    </tr>\n",
       "  </thead>\n",
       "  <tbody>\n",
       "    <tr>\n",
       "      <th>107365</th>\n",
       "      <td>Female</td>\n",
       "      <td>Loyal Customer</td>\n",
       "      <td>21</td>\n",
       "      <td>Personal Travel</td>\n",
       "      <td>Eco</td>\n",
       "      <td>632</td>\n",
       "      <td>1</td>\n",
       "      <td>5</td>\n",
       "      <td>1</td>\n",
       "      <td>4</td>\n",
       "      <td>...</td>\n",
       "      <td>2</td>\n",
       "      <td>4</td>\n",
       "      <td>2</td>\n",
       "      <td>5</td>\n",
       "      <td>4</td>\n",
       "      <td>5</td>\n",
       "      <td>2</td>\n",
       "      <td>9</td>\n",
       "      <td>NaN</td>\n",
       "      <td>neutral or dissatisfied</td>\n",
       "    </tr>\n",
       "    <tr>\n",
       "      <th>108648</th>\n",
       "      <td>Male</td>\n",
       "      <td>Loyal Customer</td>\n",
       "      <td>9</td>\n",
       "      <td>Personal Travel</td>\n",
       "      <td>Eco</td>\n",
       "      <td>762</td>\n",
       "      <td>2</td>\n",
       "      <td>5</td>\n",
       "      <td>2</td>\n",
       "      <td>2</td>\n",
       "      <td>...</td>\n",
       "      <td>4</td>\n",
       "      <td>2</td>\n",
       "      <td>5</td>\n",
       "      <td>2</td>\n",
       "      <td>5</td>\n",
       "      <td>2</td>\n",
       "      <td>4</td>\n",
       "      <td>51</td>\n",
       "      <td>NaN</td>\n",
       "      <td>neutral or dissatisfied</td>\n",
       "    </tr>\n",
       "    <tr>\n",
       "      <th>16797</th>\n",
       "      <td>Male</td>\n",
       "      <td>disloyal Customer</td>\n",
       "      <td>25</td>\n",
       "      <td>Business travel</td>\n",
       "      <td>Eco</td>\n",
       "      <td>1017</td>\n",
       "      <td>3</td>\n",
       "      <td>4</td>\n",
       "      <td>4</td>\n",
       "      <td>5</td>\n",
       "      <td>...</td>\n",
       "      <td>5</td>\n",
       "      <td>2</td>\n",
       "      <td>5</td>\n",
       "      <td>2</td>\n",
       "      <td>3</td>\n",
       "      <td>2</td>\n",
       "      <td>5</td>\n",
       "      <td>126</td>\n",
       "      <td>NaN</td>\n",
       "      <td>neutral or dissatisfied</td>\n",
       "    </tr>\n",
       "    <tr>\n",
       "      <th>30090</th>\n",
       "      <td>Male</td>\n",
       "      <td>Loyal Customer</td>\n",
       "      <td>7</td>\n",
       "      <td>Personal Travel</td>\n",
       "      <td>Eco</td>\n",
       "      <td>399</td>\n",
       "      <td>4</td>\n",
       "      <td>5</td>\n",
       "      <td>4</td>\n",
       "      <td>4</td>\n",
       "      <td>...</td>\n",
       "      <td>4</td>\n",
       "      <td>4</td>\n",
       "      <td>3</td>\n",
       "      <td>1</td>\n",
       "      <td>1</td>\n",
       "      <td>4</td>\n",
       "      <td>4</td>\n",
       "      <td>0</td>\n",
       "      <td>NaN</td>\n",
       "      <td>neutral or dissatisfied</td>\n",
       "    </tr>\n",
       "    <tr>\n",
       "      <th>41924</th>\n",
       "      <td>Female</td>\n",
       "      <td>Loyal Customer</td>\n",
       "      <td>58</td>\n",
       "      <td>Business travel</td>\n",
       "      <td>Eco</td>\n",
       "      <td>129</td>\n",
       "      <td>5</td>\n",
       "      <td>3</td>\n",
       "      <td>3</td>\n",
       "      <td>3</td>\n",
       "      <td>...</td>\n",
       "      <td>5</td>\n",
       "      <td>5</td>\n",
       "      <td>5</td>\n",
       "      <td>5</td>\n",
       "      <td>3</td>\n",
       "      <td>5</td>\n",
       "      <td>5</td>\n",
       "      <td>3</td>\n",
       "      <td>NaN</td>\n",
       "      <td>satisfied</td>\n",
       "    </tr>\n",
       "  </tbody>\n",
       "</table>\n",
       "<p>5 rows × 23 columns</p>\n",
       "</div>"
      ],
      "text/plain": [
       "           Gender      Customer Type  Age   Type of Travel Class  \\\n",
       "client_id                                                          \n",
       "107365     Female     Loyal Customer   21  Personal Travel   Eco   \n",
       "108648       Male     Loyal Customer    9  Personal Travel   Eco   \n",
       "16797        Male  disloyal Customer   25  Business travel   Eco   \n",
       "30090        Male     Loyal Customer    7  Personal Travel   Eco   \n",
       "41924      Female     Loyal Customer   58  Business travel   Eco   \n",
       "\n",
       "           Flight Distance  Inflight wifi service  \\\n",
       "client_id                                           \n",
       "107365                 632                      1   \n",
       "108648                 762                      2   \n",
       "16797                 1017                      3   \n",
       "30090                  399                      4   \n",
       "41924                  129                      5   \n",
       "\n",
       "           Departure/Arrival time convenient  Ease of Online booking  \\\n",
       "client_id                                                              \n",
       "107365                                     5                       1   \n",
       "108648                                     5                       2   \n",
       "16797                                      4                       4   \n",
       "30090                                      5                       4   \n",
       "41924                                      3                       3   \n",
       "\n",
       "           Gate location  ...  Inflight entertainment  On-board service  \\\n",
       "client_id                 ...                                             \n",
       "107365                 4  ...                       2                 4   \n",
       "108648                 2  ...                       4                 2   \n",
       "16797                  5  ...                       5                 2   \n",
       "30090                  4  ...                       4                 4   \n",
       "41924                  3  ...                       5                 5   \n",
       "\n",
       "           Leg room service  Baggage handling  Checkin service  \\\n",
       "client_id                                                        \n",
       "107365                    2                 5                4   \n",
       "108648                    5                 2                5   \n",
       "16797                     5                 2                3   \n",
       "30090                     3                 1                1   \n",
       "41924                     5                 5                3   \n",
       "\n",
       "           Inflight service  Cleanliness  Departure Delay in Minutes  \\\n",
       "client_id                                                              \n",
       "107365                    5            2                           9   \n",
       "108648                    2            4                          51   \n",
       "16797                     2            5                         126   \n",
       "30090                     4            4                           0   \n",
       "41924                     5            5                           3   \n",
       "\n",
       "           Arrival Delay in Minutes             satisfaction  \n",
       "client_id                                                     \n",
       "107365                          NaN  neutral or dissatisfied  \n",
       "108648                          NaN  neutral or dissatisfied  \n",
       "16797                           NaN  neutral or dissatisfied  \n",
       "30090                           NaN  neutral or dissatisfied  \n",
       "41924                           NaN                satisfied  \n",
       "\n",
       "[5 rows x 23 columns]"
      ]
     },
     "execution_count": 9,
     "metadata": {},
     "output_type": "execute_result"
    }
   ],
   "source": [
    "#firstly let's check NA value\n",
    "count_null = df['Arrival Delay in Minutes'].isnull().sum()\n",
    "print(f'There are {count_null} null values, in the column \"Arrival Delay in Minutes\"')\n",
    "#overview of null row\n",
    "df[df.isnull().any(axis = 1)].head()"
   ]
  },
  {
   "cell_type": "code",
   "execution_count": 10,
   "metadata": {
    "colab": {
     "base_uri": "https://localhost:8080/"
    },
    "executionInfo": {
     "elapsed": 68,
     "status": "ok",
     "timestamp": 1677942816742,
     "user": {
      "displayName": "Luca Ganzedda",
      "userId": "02068572815256769199"
     },
     "user_tz": -60
    },
    "id": "-hpf0ocyldpa",
    "outputId": "069dd049-20b2-4e46-90e2-52b8d3e1c8f4"
   },
   "outputs": [
    {
     "name": "stdout",
     "output_type": "stream",
     "text": [
      "Median 0.0 \n",
      " Mean 15.09\n"
     ]
    }
   ],
   "source": [
    "#compute the median & mean\n",
    "arr_col_name = 'Arrival Delay in Minutes'\n",
    "median = df[arr_col_name].median()\n",
    "mean = df[arr_col_name].mean()\n",
    "\n",
    "print(f'Median {round(median,2)} \\n Mean {round(mean, 2)}')"
   ]
  },
  {
   "cell_type": "markdown",
   "metadata": {
    "id": "N5GcAcH1zarr"
   },
   "source": [
    "As we have many entities (around 129k), only 390 of which have a null value in just one feature. The mean value of the \"Arrival Delay in minutes\" feature is significantly higher than the median, indicating the presence of outliers in the data.\n",
    "\n",
    "My assumption is that some clients may have forgotten to add the arrival delay in the questionnaire. To avoid affecting other features, I'll handle null values by replacing them with the median. This approach won't significantly impact the dataset, and we can keep all other features for these entities. Using the median instead of the mean is a good choice since it's less affected by outliers, and therefore, the impact on the data should be minimal."
   ]
  },
  {
   "cell_type": "code",
   "execution_count": 11,
   "metadata": {
    "id": "vqdtdv12zart"
   },
   "outputs": [],
   "source": [
    "#replace NaN value with the median of the column\n",
    "df[arr_col_name] = df[arr_col_name].fillna(median)"
   ]
  },
  {
   "cell_type": "markdown",
   "metadata": {
    "id": "EaT_8rMAzarv"
   },
   "source": [
    "Change dataformat: The data type is currently set to float, while all other features have int64 data type. Before changing the data type, let's check if there are any float values that need to be rounded."
   ]
  },
  {
   "cell_type": "code",
   "execution_count": 12,
   "metadata": {
    "id": "H849ZZx2zarw"
   },
   "outputs": [],
   "source": [
    "arrival_delay = df['Arrival Delay in Minutes']\n",
    "#check if some numbers have decimals.\n",
    "for x in arrival_delay:\n",
    "    if str(x)[-1] != '0':\n",
    "        print(x)"
   ]
  },
  {
   "cell_type": "markdown",
   "metadata": {
    "id": "0bLqmPD7zarx"
   },
   "source": [
    "As we don't get any output, no decimals. Perfect, we can change the format of this column in int64, like \"Departure Delay in Minutes\""
   ]
  },
  {
   "cell_type": "code",
   "execution_count": 13,
   "metadata": {
    "colab": {
     "base_uri": "https://localhost:8080/"
    },
    "executionInfo": {
     "elapsed": 56,
     "status": "ok",
     "timestamp": 1677942816745,
     "user": {
      "displayName": "Luca Ganzedda",
      "userId": "02068572815256769199"
     },
     "user_tz": -60
    },
    "id": "3gonKhKJzarx",
    "outputId": "e3e0e2db-71d1-44de-c4c7-6cb470e855e4"
   },
   "outputs": [
    {
     "name": "stdout",
     "output_type": "stream",
     "text": [
      "The type of the column Arrival Delay in Minutes is int64\n"
     ]
    }
   ],
   "source": [
    "#change the format\n",
    "df[arr_col_name] = df[arr_col_name].astype('int64')\n",
    "arr_type = df[arr_col_name].dtype\n",
    "print(f'The type of the column {arr_col_name} is {arr_type}')"
   ]
  },
  {
   "cell_type": "markdown",
   "metadata": {
    "id": "lMfKqDb6zary"
   },
   "source": [
    "Let's have an overview of all categorical variable which have \"object\" type and their distribution"
   ]
  },
  {
   "cell_type": "code",
   "execution_count": 14,
   "metadata": {
    "colab": {
     "base_uri": "https://localhost:8080/"
    },
    "executionInfo": {
     "elapsed": 46,
     "status": "ok",
     "timestamp": 1677942816746,
     "user": {
      "displayName": "Luca Ganzedda",
      "userId": "02068572815256769199"
     },
     "user_tz": -60
    },
    "id": "f37FvBPHzarz",
    "outputId": "ca4e31d0-3036-484f-f03c-def77b39fe02"
   },
   "outputs": [
    {
     "name": "stdout",
     "output_type": "stream",
     "text": [
      "Value expresed in %\n",
      "\n",
      " Feature: Gender: 50.74\n",
      "\n",
      " Feature: Customer Type: 81.69\n",
      "\n",
      " Feature: Type of Travel: 69.06\n",
      "\n",
      " Feature: Class: 47.86\n",
      "\n",
      " Feature: satisfaction: 56.55\n"
     ]
    }
   ],
   "source": [
    "#select object variables (nominal categorical variable)\n",
    "cat = [var for var in df if df[var].dtype == 'O']\n",
    "\n",
    "#Check distribution and feature n\n",
    "print('Value expresed in %')\n",
    "\n",
    "for var in cat:\n",
    "    counts = df[var].value_counts()\n",
    "    distribution = round(counts / sum(counts) * 100, 2)\n",
    "    \n",
    "    print(f'\\n Feature: {var}: {distribution[0]}') \n"
   ]
  },
  {
   "cell_type": "code",
   "execution_count": 15,
   "metadata": {
    "colab": {
     "background_save": true
    },
    "id": "EY-FjU0Hzar1"
   },
   "outputs": [],
   "source": [
    "#Standard hist graph function\n",
    "\n",
    "''''\n",
    "Corrected:\n",
    "\n",
    "\"Customize function for histogram graph. \n",
    "Parameters: df (database), y (y-axis), column (feature name), title (graph title), figsize (default is 8,6 but can be customized).\"\n",
    "'''\n",
    "\n",
    "def graph_hist(df,y: str, column: str, title: str , figsize = [8,6]):\n",
    "      \n",
    "    #set graph\n",
    "    plt.figure(figsize = (figsize[0], figsize[1]))\n",
    "    \n",
    "    #graph title\n",
    "    plt.title(title, fontsize = 20, va = 'center', pad = 10)\n",
    "    \n",
    "    #random color\n",
    "    colors = sns.color_palette(\"Paired\", len(cat))\n",
    "    random.shuffle(colors)\n",
    "    \n",
    "    #graph type (countplot)\n",
    "    ac = sns.countplot(data = df,\n",
    "                 x = column,\n",
    "                 palette = colors)\n",
    "\n",
    "    #change y label\n",
    "    plt.ylabel(y, fontsize = 20)\n",
    "    \n",
    "    #No x label\n",
    "    plt.xlabel('');\n",
    "\n",
    "    #size of tick\n",
    "    plt.tick_params(axis='both', which='major', labelsize=10)\n",
    "\n",
    "    #set max 5 bin on x axis\n",
    "    ac.yaxis.set_major_locator(plt.MaxNLocator(5))\n",
    "\n",
    "    #add % in the graph\n",
    "    total = len(df)\n",
    "    \n",
    "    #save how many feature there are (based on that I'll adjust the annotation position)\n",
    "    category = df[column].nunique()\n",
    "    \n",
    "    #loop for annotate %\n",
    "    for p in ac.patches:\n",
    "        percentage = str(round(100 * p.get_height()/total,2))\n",
    "        x = p.get_x() + p.get_width() / 2 \n",
    "        y = p.get_y() + p.get_height() / 2\n",
    "        ac.annotate(percentage, (x, y), size = 30 - 2.5*category, ha = 'center') #annotate % value\n",
    "    \n",
    "    #return graph\n",
    "    return plt.show() \n",
    "\n",
    "\n",
    "#return Variable statistic\n",
    "def count_values(df, feature):\n",
    "    values = df[feature].value_counts() #value counts\n",
    "\n",
    "    print(f\"Value distribution \\n{values}\")\n",
    "        \n",
    " \n",
    "    "
   ]
  },
  {
   "cell_type": "markdown",
   "metadata": {
    "id": "_dnxRO3jhnoz"
   },
   "source": []
  },
  {
   "cell_type": "markdown",
   "metadata": {
    "id": "vnGu1bznhxuA"
   },
   "source": [
    "## Variable analysis\n"
   ]
  },
  {
   "cell_type": "markdown",
   "metadata": {
    "id": "p7RjRcLNzar2"
   },
   "source": [
    "Let's investigate each nominal categorical variable:\n",
    "- Gender\n",
    "- Customer Type\n",
    "- Type of Travel\n",
    "- Class\n"
   ]
  },
  {
   "cell_type": "code",
   "execution_count": 16,
   "metadata": {
    "colab": {
     "base_uri": "https://localhost:8080/",
     "height": 464
    },
    "executionInfo": {
     "elapsed": 37,
     "status": "ok",
     "timestamp": 1677942816749,
     "user": {
      "displayName": "Luca Ganzedda",
      "userId": "02068572815256769199"
     },
     "user_tz": -60
    },
    "id": "uspExTbyzar3",
    "outputId": "5a08c7d8-f5b8-414b-eb15-0bd4fd529791"
   },
   "outputs": [
    {
     "data": {
      "image/png": "[encoded data removed]",
      "text/plain": [
       "<Figure size 800x600 with 1 Axes>"
      ]
     },
     "metadata": {},
     "output_type": "display_data"
    },
    {
     "name": "stdout",
     "output_type": "stream",
     "text": [
      "Value distribution \n",
      "Female    65899\n",
      "Male      63981\n",
      "Name: Gender, dtype: int64\n"
     ]
    }
   ],
   "source": [
    "#graph Gender\n",
    "graph_hist(df, y = \"Customers\", \n",
    "           column = \"Gender\", \n",
    "           title = \"Gender distribution\")\n",
    "\n",
    "#gender values\n",
    "count_values(df, \"Gender\")\n"
   ]
  },
  {
   "cell_type": "markdown",
   "metadata": {
    "id": "cReyrO9Bzar4"
   },
   "source": [
    "The customers is equaly distributed between Female & Male with really light difference. \n",
    "The data is representative of the population. No bias related to the Gender distribution. \n"
   ]
  },
  {
   "cell_type": "code",
   "execution_count": 17,
   "metadata": {
    "colab": {
     "base_uri": "https://localhost:8080/",
     "height": 464
    },
    "executionInfo": {
     "elapsed": 719,
     "status": "ok",
     "timestamp": 1677942817436,
     "user": {
      "displayName": "Luca Ganzedda",
      "userId": "02068572815256769199"
     },
     "user_tz": -60
    },
    "id": "k1mbpacBzar4",
    "outputId": "6c41e87d-8245-44d5-9ae4-05b138cb518e"
   },
   "outputs": [
    {
     "data": {
      "image/png": "[encoded data removed]",
      "text/plain": [
       "<Figure size 800x600 with 1 Axes>"
      ]
     },
     "metadata": {},
     "output_type": "display_data"
    },
    {
     "name": "stdout",
     "output_type": "stream",
     "text": [
      "Value distribution \n",
      "neutral or dissatisfied    73452\n",
      "satisfied                  56428\n",
      "Name: satisfaction, dtype: int64\n"
     ]
    }
   ],
   "source": [
    "#Graph\n",
    "graph_hist(df, y = \"Clients\",\n",
    "           column = 'Customer Type',\n",
    "           title = \"Client fidelity\")\n",
    "\n",
    "#gender values\n",
    "count_values(df, var)\n"
   ]
  },
  {
   "cell_type": "markdown",
   "metadata": {
    "id": "ix_c_XHdzar5"
   },
   "source": [
    "According to the dataset, the majority of customers (81%) are categorized as \"Loyal Customer\". It can be assumed that \"Loyal\" refers to customers who are enrolled in a loyalty program. \n",
    "\n",
    "As loyalty programs are typically designed to reward and retain satisfied customers, it can be inferred that a significant proportion of the airline's customers are satisfied with their services. \n",
    "\n",
    "However, the highly skewed distribution towards \"Loyal Customer\" may introduce bias in the data interpretation. \n",
    "To address this, one potential avenue of research could be to investigate the factors that dissatisfy \"Disloyal Customers\" and explore ways to improve the airline's services to attract and retain these customers.\n"
   ]
  },
  {
   "cell_type": "code",
   "execution_count": 18,
   "metadata": {
    "colab": {
     "base_uri": "https://localhost:8080/",
     "height": 464
    },
    "executionInfo": {
     "elapsed": 1567,
     "status": "ok",
     "timestamp": 1677942818996,
     "user": {
      "displayName": "Luca Ganzedda",
      "userId": "02068572815256769199"
     },
     "user_tz": -60
    },
    "id": "xmDA-EYczar5",
    "outputId": "545ccbe2-75bd-4b23-cb1b-56751cf412e6"
   },
   "outputs": [
    {
     "data": {
      "image/png": "[encoded data removed]",
      "text/plain": [
       "<Figure size 800x600 with 1 Axes>"
      ]
     },
     "metadata": {},
     "output_type": "display_data"
    },
    {
     "name": "stdout",
     "output_type": "stream",
     "text": [
      "Value distribution \n",
      "neutral or dissatisfied    73452\n",
      "satisfied                  56428\n",
      "Name: satisfaction, dtype: int64\n"
     ]
    }
   ],
   "source": [
    "#Type of Travel\n",
    "graph_hist(df, y = \"Clients\", \n",
    "           column = 'Type of Travel', \n",
    "           title = \"Type/Reason of Travel\")\n",
    "\n",
    "#gender values\n",
    "count_values(df, var)"
   ]
  },
  {
   "cell_type": "markdown",
   "metadata": {
    "id": "1CfarJCdzar6"
   },
   "source": [
    "Roughly 70% of the customer base travel for business reasons, while \"only\" 30% travel for personal reasons.\n",
    "\n",
    "Assumptions:\n",
    "\n",
    "- Business travelers may have specific service requirements to make their travel experience more conducive to work (e.g., gate location, Wi-Fi service, convenient departure/arrival times).\n",
    "- Customers traveling for personal reasons may have different service requirements related to entertainment.\n",
    "This airline may focus its business model on business travelers and may have special offers for business trips (I need to check the relationship between Business and Fidelity programs).\n",
    "- The population is skewed towards business travelers."
   ]
  },
  {
   "cell_type": "code",
   "execution_count": 19,
   "metadata": {
    "colab": {
     "base_uri": "https://localhost:8080/",
     "height": 464
    },
    "executionInfo": {
     "elapsed": 13,
     "status": "ok",
     "timestamp": 1677942818997,
     "user": {
      "displayName": "Luca Ganzedda",
      "userId": "02068572815256769199"
     },
     "user_tz": -60
    },
    "id": "Gyr-PL3ozar7",
    "outputId": "12846ff3-bcde-40c1-b3da-0dd9dacec263"
   },
   "outputs": [
    {
     "data": {
      "image/png": "[encoded data removed]",
      "text/plain": [
       "<Figure size 800x600 with 1 Axes>"
      ]
     },
     "metadata": {},
     "output_type": "display_data"
    },
    {
     "name": "stdout",
     "output_type": "stream",
     "text": [
      "Value distribution \n",
      "neutral or dissatisfied    73452\n",
      "satisfied                  56428\n",
      "Name: satisfaction, dtype: int64\n"
     ]
    }
   ],
   "source": [
    "#Class\n",
    "graph_hist(df, y = \"Clients\",\n",
    "           column = 'Class', \n",
    "           title = \"Type/Reason of Travel\")\n",
    "\n",
    "#gender values\n",
    "count_values(df, var)"
   ]
  },
  {
   "cell_type": "markdown",
   "metadata": {
    "id": "NkgIrsJDzar8"
   },
   "source": [
    "Approximately 44% of customers prefer Eco and 47% prefer Business class. Only a few customers choose Eco Plus. It is likely that the class preference is related to the price, but we don't have that data.\n",
    "\n",
    "Assumptions:\n",
    "- The quality of services may vary among classes\n",
    "- Customers may choose classes based on price rather than the services offered.\n",
    "\n",
    "Further investigation is needed to determine:\n",
    "- Which services are working well\n",
    "- Which services need improvement"
   ]
  },
  {
   "cell_type": "code",
   "execution_count": 20,
   "metadata": {
    "colab": {
     "base_uri": "https://localhost:8080/",
     "height": 464
    },
    "executionInfo": {
     "elapsed": 12,
     "status": "ok",
     "timestamp": 1677942818998,
     "user": {
      "displayName": "Luca Ganzedda",
      "userId": "02068572815256769199"
     },
     "user_tz": -60
    },
    "id": "vpkO5lOjzar9",
    "outputId": "8250c7c8-247b-4197-fc8e-393a4afef963"
   },
   "outputs": [
    {
     "data": {
      "image/png": "[encoded data removed]",
      "text/plain": [
       "<Figure size 800x600 with 1 Axes>"
      ]
     },
     "metadata": {},
     "output_type": "display_data"
    },
    {
     "name": "stdout",
     "output_type": "stream",
     "text": [
      "Value distribution \n",
      "neutral or dissatisfied    73452\n",
      "satisfied                  56428\n",
      "Name: satisfaction, dtype: int64\n"
     ]
    }
   ],
   "source": [
    "#satisfaction\n",
    "graph_hist(df, y = \"Clients\", column = 'satisfaction', title = \"Target variable distribution: Satisfaction\")\n",
    "\n",
    "#gender values\n",
    "count_values(df, var)"
   ]
  },
  {
   "cell_type": "markdown",
   "metadata": {
    "id": "ZfjwNUSQzar-"
   },
   "source": [
    "The target variable is imbalanced. As the aim of our project is to build a model for predicting \"neutral or dissatisfied\" customers, we can say that our dataset is balanced. There are slightly more satisfied customers than neutral or dissatisfied customers."
   ]
  },
  {
   "cell_type": "markdown",
   "metadata": {
    "id": "37I2iCJbzar-"
   },
   "source": [
    "\n",
    "\n",
    "Numeric variable to analyze:\n",
    "- Age\n",
    "- Flight distance\n",
    "- Departure Delay in Minutes        \n",
    "- Arrival Delay in Minutes\n",
    "\n",
    "I'll use a boxplot as graph and then I analyze the feature with statistic metrics:\n",
    "- median\n",
    "- mean\n",
    "- mode\n",
    "- percentile distribution\n",
    "- standard deviation"
   ]
  },
  {
   "cell_type": "code",
   "execution_count": 21,
   "metadata": {
    "id": "5fZ1h_gSzar_"
   },
   "outputs": [],
   "source": [
    "#Function for continuos numeric variable (scatter plot)\n",
    "def graph_boxplot(df,y: str, column: str, title: str , figsize = [8,6]):\n",
    "    \n",
    "    #set graph\n",
    "    plt.figure(figsize = (figsize[0], figsize[1]))\n",
    "    \n",
    "    #graph title\n",
    "    plt.title(title, fontsize = 20, va = 'center', pad = 10)\n",
    "    \n",
    "    #random color\n",
    "    colors = sns.color_palette(\"Paired\", len(cat))\n",
    "    random.shuffle(colors)\n",
    "    \n",
    "    #graph type (countplot)\n",
    "    ac = sns.boxplot(data = df,\n",
    "                 x = column,\n",
    "                 palette = colors,\n",
    "                 showmeans = True)\n",
    "    \n",
    "    #Y label    \n",
    "    plt.ylabel('', fontsize = 20)\n",
    "    \n",
    "    #No x label\n",
    "    plt.xlabel(y);\n",
    "\n",
    "    #size of tick\n",
    "    plt.tick_params(axis='both', which='major', labelsize=10)\n",
    "\n",
    "    #set max 5 bin on x axis\n",
    "    ac.yaxis.set_major_locator(plt.MaxNLocator(5))\n",
    "    \n",
    "    return plt.show()\n",
    "\n",
    "#def interesting statistic metrics\n",
    "def stats(df, column):\n",
    "    \n",
    "    pandas_stats = round(df[column].describe(),2)\n",
    "    median = df[column].median()\n",
    "    mode = df[column].mode()\n",
    "    \n",
    "    print(f\"Median       {median}\\n\", f\"Mode        {mode[0]}\\n\", pandas_stats)"
   ]
  },
  {
   "cell_type": "code",
   "execution_count": 22,
   "metadata": {
    "colab": {
     "base_uri": "https://localhost:8080/",
     "height": 600
    },
    "executionInfo": {
     "elapsed": 11,
     "status": "ok",
     "timestamp": 1677942820305,
     "user": {
      "displayName": "Luca Ganzedda",
      "userId": "02068572815256769199"
     },
     "user_tz": -60
    },
    "id": "8jG4H_-Gzar_",
    "outputId": "5f666daa-130f-4d46-f184-ac279f8dda2d"
   },
   "outputs": [
    {
     "data": {
      "image/png": "[encoded data removed]",
      "text/plain": [
       "<Figure size 800x600 with 1 Axes>"
      ]
     },
     "metadata": {},
     "output_type": "display_data"
    },
    {
     "name": "stdout",
     "output_type": "stream",
     "text": [
      "Median       40.0\n",
      " Mode        39\n",
      " count    129880.00\n",
      "mean         39.43\n",
      "std          15.12\n",
      "min           7.00\n",
      "25%          27.00\n",
      "50%          40.00\n",
      "75%          51.00\n",
      "max          85.00\n",
      "Name: Age, dtype: float64\n"
     ]
    }
   ],
   "source": [
    "#graph\n",
    "graph_boxplot(df, y = 'Customers', \n",
    "              column = 'Age', \n",
    "              title = 'Age distribution')\n",
    "\n",
    "#stats metrics\n",
    "stats(df, 'Age')"
   ]
  },
  {
   "cell_type": "markdown",
   "metadata": {
    "id": "zxdCsOdMzasA"
   },
   "source": [
    "The Age distribution seems consisent as we have the median, mean and the mode real close to each others. We can assume that this sample represent the population.\n",
    "\n",
    "I can divide the population in bin and analyze how the satisfaction can change between generation. \n",
    "\n",
    "\n",
    "Futher analysis:\n",
    "- Fidelity and Age\n",
    "- Business trips and Age"
   ]
  },
  {
   "cell_type": "code",
   "execution_count": 23,
   "metadata": {
    "colab": {
     "base_uri": "https://localhost:8080/",
     "height": 600
    },
    "executionInfo": {
     "elapsed": 721,
     "status": "ok",
     "timestamp": 1677942821018,
     "user": {
      "displayName": "Luca Ganzedda",
      "userId": "02068572815256769199"
     },
     "user_tz": -60
    },
    "id": "OfzsWgDbzasB",
    "outputId": "34964659-09c7-4ecb-c6f8-606825cf6857"
   },
   "outputs": [
    {
     "data": {
      "image/png": "[encoded data removed]",
      "text/plain": [
       "<Figure size 800x600 with 1 Axes>"
      ]
     },
     "metadata": {},
     "output_type": "display_data"
    },
    {
     "name": "stdout",
     "output_type": "stream",
     "text": [
      "Median       844.0\n",
      " Mode        337\n",
      " count    129880.00\n",
      "mean       1190.32\n",
      "std         997.45\n",
      "min          31.00\n",
      "25%         414.00\n",
      "50%         844.00\n",
      "75%        1744.00\n",
      "max        4983.00\n",
      "Name: Flight Distance, dtype: float64\n"
     ]
    }
   ],
   "source": [
    "#Flight Distance\n",
    "graph_boxplot(df, y = 'Customers',\n",
    "              column = 'Flight Distance', \n",
    "              title = 'Short - Long distance')\n",
    "\n",
    "#stats metrics\n",
    "stats(df, 'Flight Distance')"
   ]
  },
  {
   "cell_type": "markdown",
   "metadata": {
    "id": "ZXyrOzYCzasB"
   },
   "source": [
    "Based on this category which I've found online: https://www.pointhacks.com.au/differences-short-medium-long-haul-flights/ \n",
    "Short-haul (<3 hours): approximately 2,400-2,700 km\n",
    "Medium-haul (3-6 hours): approximately 4,800-8,100 km\n",
    "Long-haul (6-12 hours): approximately 9,600-16,200 km\n",
    "Ultra-long-haul (12+ hours): more than 16,200 km\n",
    "\n",
    "This airline company provides short mostly short flight as the max is about 4983 km.\n",
    "Based on this research\n",
    "\n",
    "Assumptions:\n",
    "- All flight are classified as short distance\n",
    "- Clients above the 75th percentile can't be classified as outliers as this is a real option.\n",
    "\n",
    "Further insights:\n",
    "- Analyze the satisfaction of clients based on flight distance.\n",
    "- In which flight distance does the company need to improve its services and increase overall satisfaction?\""
   ]
  },
  {
   "cell_type": "code",
   "execution_count": 24,
   "metadata": {
    "colab": {
     "base_uri": "https://localhost:8080/",
     "height": 600
    },
    "executionInfo": {
     "elapsed": 14,
     "status": "ok",
     "timestamp": 1677942821019,
     "user": {
      "displayName": "Luca Ganzedda",
      "userId": "02068572815256769199"
     },
     "user_tz": -60
    },
    "id": "QYVA2pDJzasC",
    "outputId": "3fff8e71-786c-4f39-fd27-b597e89452c5"
   },
   "outputs": [
    {
     "data": {
      "image/png": "[encoded data removed]",
      "text/plain": [
       "<Figure size 800x600 with 1 Axes>"
      ]
     },
     "metadata": {},
     "output_type": "display_data"
    },
    {
     "name": "stdout",
     "output_type": "stream",
     "text": [
      "Median       0.0\n",
      " Mode        0\n",
      " count    129880.00\n",
      "mean         14.71\n",
      "std          38.07\n",
      "min           0.00\n",
      "25%           0.00\n",
      "50%           0.00\n",
      "75%          12.00\n",
      "max        1592.00\n",
      "Name: Departure Delay in Minutes, dtype: float64\n"
     ]
    }
   ],
   "source": [
    "#graph\n",
    "graph_boxplot(df, y = 'Customers',\n",
    "              column = 'Departure Delay in Minutes',\n",
    "              title = 'Departure Delay (Min)')\n",
    "\n",
    "#stat metrics\n",
    "stats(df, 'Departure Delay in Minutes')"
   ]
  },
  {
   "cell_type": "markdown",
   "metadata": {
    "id": "N4kEg0D8zasC"
   },
   "source": [
    "Departure delay in minutes.\n",
    "Based these data we can see that in overal the Airline company didn't have high departure delay (median = 0). But, there are roghly 25% of clients that had a departure delay higher than 12 minutes, with some extreme case between 1000 (16 hours) - 1600 minutes (23 hours).\n",
    "\n",
    "Assumption:\n",
    "- Delay could be cause by external factors which aren't included in this dataset (i.e bad wheters, mechanichs problem etc)\n",
    "- Overll delay flight average is 12 minutes (EU stats)\n",
    "- After 3 hours the flight is remboursed\n",
    "- Flight after 3 hours could be outliers or extreme case by external factors (i.e wheter, mechanical problem etc)\n",
    "\n",
    "Futher steps:\n",
    "- setup a threshold of 3 hours. This threshold would help to filter out extreme outliers while still preserving data that is relevant to the analysis (exceptional delay)\n",
    "- Reduce bias from extreme delay."
   ]
  },
  {
   "cell_type": "code",
   "execution_count": 25,
   "metadata": {
    "colab": {
     "base_uri": "https://localhost:8080/",
     "height": 600
    },
    "executionInfo": {
     "elapsed": 673,
     "status": "ok",
     "timestamp": 1677942821680,
     "user": {
      "displayName": "Luca Ganzedda",
      "userId": "02068572815256769199"
     },
     "user_tz": -60
    },
    "id": "3N6yg_KFzasD",
    "outputId": "ec14e6a3-a2b7-40ab-b490-ef783c8e0098"
   },
   "outputs": [
    {
     "data": {
      "image/png": "[encoded data removed]",
      "text/plain": [
       "<Figure size 800x600 with 1 Axes>"
      ]
     },
     "metadata": {},
     "output_type": "display_data"
    },
    {
     "name": "stdout",
     "output_type": "stream",
     "text": [
      "Median       0.0\n",
      " Mode        0\n",
      " count    129880.00\n",
      "mean         15.05\n",
      "std          38.42\n",
      "min           0.00\n",
      "25%           0.00\n",
      "50%           0.00\n",
      "75%          13.00\n",
      "max        1584.00\n",
      "Name: Arrival Delay in Minutes, dtype: float64\n"
     ]
    }
   ],
   "source": [
    "#graph\n",
    "graph_boxplot(df, y = 'Customers', \n",
    "              column = 'Arrival Delay in Minutes', \n",
    "              title = 'Short - Long distance')\n",
    "\n",
    "#stat metrics\n",
    "stats(df, 'Arrival Delay in Minutes')"
   ]
  },
  {
   "cell_type": "markdown",
   "metadata": {
    "id": "QteqoPZzzasD"
   },
   "source": [
    "Arrival delay in minutes. Based these data we can see that in overal the Airline company didn't have high departure delay (median = 0). But, there are roghly 25% of clients that had a departure delay higher than 13 minutes, with some extreme case between 1000 (16 hours) - 1600 minutes (23 hours).\n",
    "\n",
    "Assumption:\n",
    "- Delay could be cause by external factors which aren't included in this dataset (i.e - - bad wheters, mechanichs problem etc)\n",
    "- Overll delay flight average is 12 minutes (EU stats)\n",
    "- After 3 hours the flight is remboursed\n",
    "- Flight after 3 hours could be outliers or extreme case by external factors (i.e wheter, mechanical problem etc)\n",
    "\n",
    "Futher steps:\n",
    "- setup a threshold of 3 hours. This threshold would help to filter out extreme outliers while still preserving data that is relevant to the analysis (exceptional delay)\n",
    "- Reduce bias from extreme delay."
   ]
  },
  {
   "cell_type": "markdown",
   "metadata": {
    "id": "cyUI4TY_zasE"
   },
   "source": [
    "Ordinal Categoric Features\n",
    "- Departure/Arrival time convenient  \n",
    "- Ease of Online booking             \n",
    "- Gate location                      \n",
    "- Food and drink                     \n",
    "- Online boarding                    \n",
    "- Seat comfort                       \n",
    "- Inflight entertainment             \n",
    "- On-board service                   \n",
    "- Leg room service                    \n",
    "- Baggage handling                    \n",
    "- Checkin service                    \n",
    "- Inflight service                   \n",
    "- Cleanliness                        \n",
    " \n",
    "These features explain the level of services offered by the Airline company. The client was invitited to express a vote from 0 to 5 to the related service\n"
   ]
  },
  {
   "cell_type": "code",
   "execution_count": 26,
   "metadata": {
    "colab": {
     "base_uri": "https://localhost:8080/",
     "height": 586
    },
    "executionInfo": {
     "elapsed": 11,
     "status": "ok",
     "timestamp": 1677942821681,
     "user": {
      "displayName": "Luca Ganzedda",
      "userId": "02068572815256769199"
     },
     "user_tz": -60
    },
    "id": "2Xui0lhpzasE",
    "outputId": "36f57895-3c8d-4dc0-a365-9bfc9b562fe3"
   },
   "outputs": [
    {
     "data": {
      "image/png": "[encoded data removed]",
      "text/plain": [
       "<Figure size 900x700 with 1 Axes>"
      ]
     },
     "metadata": {},
     "output_type": "display_data"
    },
    {
     "name": "stdout",
     "output_type": "stream",
     "text": [
      "Value distribution \n",
      "4    31880\n",
      "5    27998\n",
      "3    22378\n",
      "2    21534\n",
      "1    19409\n",
      "0     6681\n",
      "Name: Departure/Arrival time convenient, dtype: int64\n"
     ]
    }
   ],
   "source": [
    "#Departure time convenient\n",
    "graph_hist(df, \n",
    "           y = \"Clients\", \n",
    "           column = \"Departure/Arrival time convenient\", \n",
    "           title = \"Departure - Arrival time convenient\", \n",
    "           figsize = [9,7])\n",
    "\n",
    "#stat metrics\n",
    "count_values(df, \"Departure/Arrival time convenient\")"
   ]
  },
  {
   "cell_type": "markdown",
   "metadata": {
    "id": "n1i62etMzasF"
   },
   "source": [
    "Key findings in overall:\n",
    "- 40% of our sample indicate that the airline company have a good \"Departure - Arrival time convenient\".\n",
    "- 20% indicate a low time convenient \n",
    "- between 30% client think that is good but not perfect.\n",
    "\n",
    "Futher insight:\n",
    "- We need to investigate this based on Business Travel and Personal Travel. The time preference could change"
   ]
  },
  {
   "cell_type": "code",
   "execution_count": 27,
   "metadata": {
    "colab": {
     "base_uri": "https://localhost:8080/",
     "height": 586
    },
    "executionInfo": {
     "elapsed": 3115,
     "status": "ok",
     "timestamp": 1677942824787,
     "user": {
      "displayName": "Luca Ganzedda",
      "userId": "02068572815256769199"
     },
     "user_tz": -60
    },
    "id": "yGDdvxizzasF",
    "outputId": "986b3166-aa2c-424a-e8df-86d35974c7f1"
   },
   "outputs": [
    {
     "data": {
      "image/png": "[encoded data removed]",
      "text/plain": [
       "<Figure size 900x700 with 1 Axes>"
      ]
     },
     "metadata": {},
     "output_type": "display_data"
    },
    {
     "name": "stdout",
     "output_type": "stream",
     "text": [
      "Value distribution \n",
      "3    30393\n",
      "2    30051\n",
      "4    24444\n",
      "1    21886\n",
      "5    17424\n",
      "0     5682\n",
      "Name: Ease of Online booking, dtype: int64\n"
     ]
    }
   ],
   "source": [
    "#hist graph and standard statistic metrics\n",
    "graph_hist(df, y = \"Clients\", \n",
    "           column = \"Ease of Online booking\", \n",
    "           title = \"Online booking\", \n",
    "           figsize = [9,7])\n",
    "\n",
    "#stat metrics\n",
    "count_values(df, \"Ease of Online booking\")"
   ]
  },
  {
   "cell_type": "markdown",
   "metadata": {
    "id": "_Lw8OwxfzasG"
   },
   "source": [
    "Futher investigation:\n",
    "- I could focus my research on how the airline company can attract \"Disloyal Customer\". **What are the service that they don't like?\n",
    "- Population is skewed to Business Travelers.\n",
    "- Which services are working well\n",
    "- Which services need improvement\n",
    "- I can divide the population in bin and analyze how the satisfaction can change between generation. \n",
    "- <18\n",
    "- 19-25 (students)\n",
    "- 25-35 (workers)\n",
    "- 35-45 (workers)\n",
    "- 45-55 (workers)\n",
    "- 55-65 (old people)\n",
    "- +65\n",
    "\n",
    "Futher analysis:\n",
    "- Fidelity and Age\n",
    "- Business trips and Age\n",
    "\n",
    "Further insights:\n",
    "Classify all flights into: short, medium, and long distance.\n",
    "Analyze the satisfaction of clients based on flight distance.\n",
    "In which flight distance does the company need to improve its services and increase overall satisfaction?\"\n",
    "\n",
    "Futher steps:\n",
    "setup a threshold of 3 hours. This threshold would help to filter out extreme outliers while still preserving data that is relevant to the analysis (exceptional delay)\n",
    "Reduce bias from extreme delay."
   ]
  },
  {
   "cell_type": "markdown",
   "metadata": {
    "id": "Lu_8CBKizasH"
   },
   "source": [
    "OUTLIERS \n",
    "Check if Delay depends on flight distance. In case this are unreal data, set a threeshold for departure time"
   ]
  },
  {
   "cell_type": "code",
   "execution_count": 28,
   "metadata": {
    "id": "RxZmhir2zasH"
   },
   "outputs": [],
   "source": [
    "\"\"\"\n",
    "Build A function for compute pearson correlation.\n",
    "Understand if two 2 varriables are correlated.\n",
    "The indicators is a range between -1 and +1 where a Zero value means no correlation.\n",
    "+1 or -1 indicates a strong positive or negative correlation\n",
    "\"\"\"\n",
    "\n",
    "from scipy.stats import pearsonr\n",
    "#Function\n",
    "\n",
    "def correlation(df, var1: str, var2: str):\n",
    "    \n",
    "    #compute pearson correlation and p_value\n",
    "    corr, p_value = pearsonr(df[var1], df[var2])\n",
    "    print(f'Correlation {round(corr,3)}, P-Value {round(p_value,3)}')\n",
    "    \n",
    "#Analyze groupby\n",
    "def groupby(df, cat_var: str, num_var: str):\n",
    "    \n",
    "    stats = df.groupby(cat_var)[num_var].describe()\n",
    "    \n",
    "    return stats"
   ]
  },
  {
   "cell_type": "markdown",
   "metadata": {
    "id": "ITtDgJqWzasI"
   },
   "source": [
    "HANDLE OUTLIERS:\n",
    "Before to change any data, I want to investigate if extreme flight delay depends on the flight distance.\n",
    "Hypotesis: \n",
    "- H0 no correlation between flight distance and departure Delay minutes\n",
    "- H1 Departure Delay in Minutes depends on Flight distance\n",
    "- alpha (accepted error) = 0.05\n",
    "\n",
    "(Check p value)"
   ]
  },
  {
   "cell_type": "markdown",
   "metadata": {
    "id": "ReahPkVxzasI"
   },
   "source": [
    "See how Departure Delay in minutes impact client satisfaction"
   ]
  },
  {
   "cell_type": "code",
   "execution_count": 29,
   "metadata": {
    "id": "6RbhZeVXzasK"
   },
   "outputs": [],
   "source": [
    "#Analyze correlationcorr = correlation(df, 'Flight Distance', 'Departure Delay in Minutes')"
   ]
  },
  {
   "cell_type": "markdown",
   "metadata": {
    "id": "Lpn8XEXtzasL"
   },
   "source": [
    "P-value higher than 0.05 (alpha), we can't refuse H0.\n",
    "We can assume a No correlation between flight Distance & Departure.\n",
    "\n",
    "\n",
    "As there is not correlation between Flight Distance and Delay departure, I will handle outliers in the following way:\n",
    "- Set a threeshold of 3 hours (Standard \"extreme\" flight delay\" *)\n",
    "- Change all value above 3 (180 minutes) hours with this threeshold\n",
    "\n",
    "*The threshold comes from a research regardin standard flight delay. It's highly improbable having delay of that ours as the flight would be postponed to the next day or changed it. An average of accept deleay is 3 hours"
   ]
  },
  {
   "cell_type": "code",
   "execution_count": 30,
   "metadata": {
    "colab": {
     "base_uri": "https://localhost:8080/"
    },
    "executionInfo": {
     "elapsed": 50,
     "status": "ok",
     "timestamp": 1677942824790,
     "user": {
      "displayName": "Luca Ganzedda",
      "userId": "02068572815256769199"
     },
     "user_tz": -60
    },
    "id": "tgLBdI-KzasL",
    "outputId": "8be35844-e400-41c0-92c9-4428d162b6cb"
   },
   "outputs": [
    {
     "name": "stdout",
     "output_type": "stream",
     "text": [
      "                           count       mean        std  min  25%  50%   75%  \\\n",
      "satisfaction                                                                  \n",
      "neutral or dissatisfied  73452.0  16.406837  40.182914  0.0  0.0  0.0  15.0   \n",
      "satisfied                56428.0  12.509782  35.010480  0.0  0.0  0.0   9.0   \n",
      "\n",
      "                            max  \n",
      "satisfaction                     \n",
      "neutral or dissatisfied  1592.0  \n",
      "satisfied                1305.0  \n"
     ]
    }
   ],
   "source": [
    "#analyze satisfaction & departure\n",
    "cat_var = 'satisfaction'\n",
    "num_var = 'Departure Delay in Minutes'\n",
    "\n",
    "stats = groupby(df, cat_var, num_var)\n",
    "\n",
    "print(stats)"
   ]
  },
  {
   "cell_type": "markdown",
   "metadata": {
    "id": "EucIvuOtzasN"
   },
   "source": [
    "Satisfied customers have an average delay of 12 minutes, while those who are neutral or dissatisfied have an average delay of 16 minutes. The standard deviation also has a slight difference, but the maximum delay is quite similar. Based on these three statistical metrics, we can assume that extremely high delays are outliers that do not belong to any specific group (such as dissatisfied customers). To improve our future model, we can set a threshold of 3 hours as an acceptable delay for flights, based on \"Winsorizing\" technique. The aim is so decrease the power of outliers but keeping them relevant for our analyzes as flight with high delay could decrease the satisfaction of clients"
   ]
  },
  {
   "cell_type": "code",
   "execution_count": 31,
   "metadata": {
    "colab": {
     "base_uri": "https://localhost:8080/"
    },
    "executionInfo": {
     "elapsed": 36,
     "status": "ok",
     "timestamp": 1677942824790,
     "user": {
      "displayName": "Luca Ganzedda",
      "userId": "02068572815256769199"
     },
     "user_tz": -60
    },
    "id": "RHUlUmtozasN",
    "outputId": "0a1c5b1a-75d3-4f94-eaba-5038ea57b636"
   },
   "outputs": [
    {
     "name": "stdout",
     "output_type": "stream",
     "text": [
      "count    129880.000000\n",
      "mean         13.847197\n",
      "std          30.865197\n",
      "min           0.000000\n",
      "25%           0.000000\n",
      "50%           0.000000\n",
      "75%          12.000000\n",
      "max         180.000000\n",
      "Name: Departure Delay in Minutes, dtype: float64\n"
     ]
    }
   ],
   "source": [
    "#change value\n",
    "df.loc[df['Departure Delay in Minutes'] > 180, 'Departure Delay in Minutes'] = 180\n",
    "\n",
    "print(df['Departure Delay in Minutes'].describe())"
   ]
  },
  {
   "cell_type": "code",
   "execution_count": 32,
   "metadata": {
    "id": "EzM8IMRCzasO"
   },
   "outputs": [],
   "source": [
    "#Remove Arrival Delay. They are really similar \n",
    "df = df.drop('Arrival Delay in Minutes', axis = 1)"
   ]
  },
  {
   "cell_type": "markdown",
   "metadata": {
    "id": "sctUrEENzasP"
   },
   "source": [
    "EDA part 2.\n",
    "Answer these following question:\n",
    "- Who are the most satisfay clients?\n",
    "    - Business or personal travel?\n",
    "    - Fidelity or without fidelity card?\n",
    "    - Which flight class?\n",
    "- Which services need to be imrpoved ?\n",
    "    - For business trip / personal trip\n",
    "    - For flight class\n",
    "    - Flight distance"
   ]
  },
  {
   "cell_type": "code",
   "execution_count": 33,
   "metadata": {
    "id": "8efvL7hhzasP"
   },
   "outputs": [],
   "source": [
    "#compute percentages\n",
    "def groupby_perc(df, var: str, target: str):\n",
    "    \n",
    "    value_counts = df.groupby(var)[target].value_counts()\n",
    "    calc = value_counts / df.groupby(var).size() * 100\n",
    "    \n",
    "    #create list\n",
    "    percentages = []\n",
    "    \n",
    "    for i in calc:\n",
    "        percentages.append(i)\n",
    "        \n",
    "    return percentages\n",
    "\n",
    "#Add % in the graph\n",
    "def perc_hue(ax, feature, Number_of_categories, hue_categories):\n",
    "    \n",
    "    #get heigh of bar\n",
    "    a = [p.get_height() for p in ax.patches]\n",
    "    #get bar\n",
    "    patch = [p for p in ax.patches]\n",
    "    #compute %. 2 loop needed. Iteract on n° of categories\n",
    "    for i in range(Number_of_categories):\n",
    "        #total of each categories\n",
    "        total = feature.value_counts().values[i]\n",
    "        #2° loop\n",
    "        for j in range(hue_categories):\n",
    "            #compute %\n",
    "            percentage = str(round(100 * a[(j*Number_of_categories + i)]/total,2))\n",
    "            #get coordinate (x,y)\n",
    "            x = patch[(j*Number_of_categories + i)].get_x() + patch[(j*Number_of_categories + i)].get_width() / 2\n",
    "            y = patch[(j*Number_of_categories + i)].get_y() + patch[(j*Number_of_categories + i)].get_height() / 2\n",
    "            #annotate percentage\n",
    "            ax.annotate(percentage, (x, y), size = 20, ha = 'center')\n",
    "        \n",
    "\n",
    "#graph hist with hue\n",
    "def graph_hist_hue(df,y: str, column: str, hue: str, title: str, figsize = [8,6]):\n",
    "      \n",
    "    #set graph\n",
    "    plt.figure(figsize = (figsize[0], figsize[1]))\n",
    "    \n",
    "    #graph title\n",
    "    plt.title(title, fontsize = 20, va = 'center', pad = 10)\n",
    "    \n",
    "    #random color\n",
    "    colors = sns.color_palette(\"Paired\", len(cat))\n",
    "    random.shuffle(colors)\n",
    "    \n",
    "    #graph type (countplot)\n",
    "    ac = sns.countplot(data = df,\n",
    "                 x = column,\n",
    "                 hue = hue,\n",
    "                 palette = colors)\n",
    "\n",
    "    #change y label\n",
    "    plt.ylabel(y, fontsize = 20)\n",
    "    \n",
    "    #No x label\n",
    "    plt.xlabel('');\n",
    "\n",
    "    #size of tick\n",
    "    plt.tick_params(axis='both', which='major', labelsize=10)\n",
    "\n",
    "    #set max 5 bin on x axis\n",
    "    ac.yaxis.set_major_locator(plt.MaxNLocator(5))\n",
    "    \n",
    "    n_cat = len(df[column].value_counts())\n",
    "    n_hue = len(df[hue].value_counts())\n",
    "    \n",
    "    #annotate %\n",
    "    perc_hue(ac, df[column], n_cat, n_hue)\n",
    "    \n",
    "    #return graph\n",
    "    return plt.show() \n",
    "        "
   ]
  },
  {
   "cell_type": "code",
   "execution_count": null,
   "metadata": {
    "id": "g4TANCmUzasQ"
   },
   "outputs": [],
   "source": []
  },
  {
   "cell_type": "code",
   "execution_count": 34,
   "metadata": {
    "colab": {
     "base_uri": "https://localhost:8080/",
     "height": 396
    },
    "executionInfo": {
     "elapsed": 1798,
     "status": "ok",
     "timestamp": 1677942826570,
     "user": {
      "displayName": "Luca Ganzedda",
      "userId": "02068572815256769199"
     },
     "user_tz": -60
    },
    "id": "ALQNJakPzasR",
    "outputId": "187ba9d7-9ed6-4e3b-f451-91b07fd8516b"
   },
   "outputs": [
    {
     "data": {
      "image/png": "[encoded data removed]",
      "text/plain": [
       "<Figure size 800x600 with 1 Axes>"
      ]
     },
     "metadata": {},
     "output_type": "display_data"
    }
   ],
   "source": [
    "#Analyze Business & Personal travel satisfaction\n",
    "graph_hist_hue(df, y = 'Clients', \n",
    "               column = 'Type of Travel', \n",
    "               hue = 'satisfaction', \n",
    "               title = 'Business & Personal travel Satisfaction ')"
   ]
  },
  {
   "cell_type": "markdown",
   "metadata": {
    "id": "K7qA8XrgzasR"
   },
   "source": [
    "Findings:\n",
    "- Business travelers are more satisfy than Personaò Travel. 58% against 10%\n",
    "- Personal travel category has a huge percentage of people neutral or dissatisfied. \n",
    "- This airline company business fits more to business than personal travelers"
   ]
  },
  {
   "cell_type": "code",
   "execution_count": 35,
   "metadata": {
    "colab": {
     "base_uri": "https://localhost:8080/",
     "height": 396
    },
    "executionInfo": {
     "elapsed": 75,
     "status": "ok",
     "timestamp": 1677942826571,
     "user": {
      "displayName": "Luca Ganzedda",
      "userId": "02068572815256769199"
     },
     "user_tz": -60
    },
    "id": "pSRx6NXczasS",
    "outputId": "346c3bc7-09b2-4f55-8597-af883d38e0e1"
   },
   "outputs": [
    {
     "data": {
      "image/png": "[encoded data removed]",
      "text/plain": [
       "<Figure size 800x600 with 1 Axes>"
      ]
     },
     "metadata": {},
     "output_type": "display_data"
    }
   ],
   "source": [
    "#Fidelity or without fidelity card\n",
    "graph_hist_hue(df, y = 'Clients', \n",
    "               column = 'Customer Type', \n",
    "               hue = 'satisfaction', \n",
    "               title = 'Business & Personal travel Satisfaction ')"
   ]
  },
  {
   "cell_type": "markdown",
   "metadata": {
    "id": "ps58Xtq-zasS"
   },
   "source": [
    "Key findings:\n",
    "- Low representation for disloyal customer. This could be a problem that can occur when collecting data. Disloyal customer weren't interested in filling a questionar.\n",
    "- Loyal customers are more satisfied about the company airline than disployal customer\n",
    "- Company need to improve services for Loyal Customer as half of them declare a neutral or dissatisfied status"
   ]
  },
  {
   "cell_type": "code",
   "execution_count": 36,
   "metadata": {
    "colab": {
     "base_uri": "https://localhost:8080/",
     "height": 396
    },
    "executionInfo": {
     "elapsed": 73,
     "status": "ok",
     "timestamp": 1677942826572,
     "user": {
      "displayName": "Luca Ganzedda",
      "userId": "02068572815256769199"
     },
     "user_tz": -60
    },
    "id": "rzwN-b10zasT",
    "outputId": "89c489bd-4c3f-4cb7-a76c-090ca8f76c0d"
   },
   "outputs": [
    {
     "data": {
      "image/png": "[encoded data removed]",
      "text/plain": [
       "<Figure size 800x600 with 1 Axes>"
      ]
     },
     "metadata": {},
     "output_type": "display_data"
    }
   ],
   "source": [
    "#Fidelity or without fidelity card\n",
    "graph_hist_hue(df, y = 'Clients', \n",
    "               column = 'Class', \n",
    "               hue = 'satisfaction', \n",
    "               title = 'Flight Class Satisfaction ')"
   ]
  },
  {
   "cell_type": "markdown",
   "metadata": {
    "id": "BME80g-mzasT"
   },
   "source": [
    "Key findings:\n",
    "- Business class have the highest satisfaction rate. It means that clients that take business class are on average satisfied\n",
    "- Eco & EcoPlus have the highest neutral or dissatisfied rate. People that use this 2 classes aren't satisfied\n",
    "- Eco is well represented and we can see a remarkable difference between satisfied and not satisfied.\n",
    "- Same as Eco Plus but there are less data available. EcoPlus isn't the main option for customers"
   ]
  },
  {
   "cell_type": "code",
   "execution_count": 37,
   "metadata": {
    "id": "Gjyq1_D8zasU"
   },
   "outputs": [],
   "source": [
    "\"\"\"\"\n",
    "Small function for computing the overal services satisfaction depending on:\n",
    "- Type of business\n",
    "- Fidelity\n",
    "- Class\n",
    "\"\"\"\n",
    "\n",
    "def overal_mean(df):\n",
    "    \n",
    "    #get index\n",
    "    index = df.index\n",
    "    \n",
    "    #loop for computing overal mean\n",
    "    for x in index:\n",
    "        #compute\n",
    "        mean = round(df.loc[x].mean(),2)\n",
    "        #add mean\n",
    "        \n",
    "        print(f'The overal service satisfaction mean for the type {x} is {mean}')\n",
    "    \n",
    "    return df\n"
   ]
  },
  {
   "cell_type": "code",
   "execution_count": 38,
   "metadata": {
    "colab": {
     "base_uri": "https://localhost:8080/",
     "height": 325
    },
    "executionInfo": {
     "elapsed": 70,
     "status": "ok",
     "timestamp": 1677942826574,
     "user": {
      "displayName": "Luca Ganzedda",
      "userId": "02068572815256769199"
     },
     "user_tz": -60
    },
    "id": "bvynmaX3zasU",
    "outputId": "44134142-649d-4088-9f46-a40a5ad716fe"
   },
   "outputs": [
    {
     "name": "stdout",
     "output_type": "stream",
     "text": [
      "The overal service satisfaction mean for the type Business travel is 3.3\n",
      "The overal service satisfaction mean for the type Personal Travel is 3.12\n"
     ]
    },
    {
     "data": {
      "text/html": [
       "<div>\n",
       "<style scoped>\n",
       "    .dataframe tbody tr th:only-of-type {\n",
       "        vertical-align: middle;\n",
       "    }\n",
       "\n",
       "    .dataframe tbody tr th {\n",
       "        vertical-align: top;\n",
       "    }\n",
       "\n",
       "    .dataframe thead th {\n",
       "        text-align: right;\n",
       "    }\n",
       "</style>\n",
       "<table border=\"1\" class=\"dataframe\">\n",
       "  <thead>\n",
       "    <tr style=\"text-align: right;\">\n",
       "      <th></th>\n",
       "      <th>Departure/Arrival time convenient</th>\n",
       "      <th>Ease of Online booking</th>\n",
       "      <th>Gate location</th>\n",
       "      <th>Food and drink</th>\n",
       "      <th>Online boarding</th>\n",
       "      <th>Seat comfort</th>\n",
       "      <th>Inflight entertainment</th>\n",
       "      <th>On-board service</th>\n",
       "      <th>Leg room service</th>\n",
       "      <th>Baggage handling</th>\n",
       "      <th>Checkin service</th>\n",
       "      <th>Inflight service</th>\n",
       "      <th>Cleanliness</th>\n",
       "      <th>Inflight wifi service</th>\n",
       "    </tr>\n",
       "    <tr>\n",
       "      <th>Type of Travel</th>\n",
       "      <th></th>\n",
       "      <th></th>\n",
       "      <th></th>\n",
       "      <th></th>\n",
       "      <th></th>\n",
       "      <th></th>\n",
       "      <th></th>\n",
       "      <th></th>\n",
       "      <th></th>\n",
       "      <th></th>\n",
       "      <th></th>\n",
       "      <th></th>\n",
       "      <th></th>\n",
       "      <th></th>\n",
       "    </tr>\n",
       "  </thead>\n",
       "  <tbody>\n",
       "    <tr>\n",
       "      <th>Business travel</th>\n",
       "      <td>2.79</td>\n",
       "      <td>2.88</td>\n",
       "      <td>3.00</td>\n",
       "      <td>3.27</td>\n",
       "      <td>3.46</td>\n",
       "      <td>3.55</td>\n",
       "      <td>3.49</td>\n",
       "      <td>3.43</td>\n",
       "      <td>3.47</td>\n",
       "      <td>3.66</td>\n",
       "      <td>3.29</td>\n",
       "      <td>3.66</td>\n",
       "      <td>3.36</td>\n",
       "      <td>2.82</td>\n",
       "    </tr>\n",
       "    <tr>\n",
       "      <th>Personal Travel</th>\n",
       "      <td>3.64</td>\n",
       "      <td>2.48</td>\n",
       "      <td>2.92</td>\n",
       "      <td>3.07</td>\n",
       "      <td>2.80</td>\n",
       "      <td>3.19</td>\n",
       "      <td>3.05</td>\n",
       "      <td>3.27</td>\n",
       "      <td>3.08</td>\n",
       "      <td>3.57</td>\n",
       "      <td>3.34</td>\n",
       "      <td>3.60</td>\n",
       "      <td>3.12</td>\n",
       "      <td>2.52</td>\n",
       "    </tr>\n",
       "  </tbody>\n",
       "</table>\n",
       "</div>"
      ],
      "text/plain": [
       "                 Departure/Arrival time convenient  Ease of Online booking  \\\n",
       "Type of Travel                                                               \n",
       "Business travel                               2.79                    2.88   \n",
       "Personal Travel                               3.64                    2.48   \n",
       "\n",
       "                 Gate location  Food and drink  Online boarding  Seat comfort  \\\n",
       "Type of Travel                                                                  \n",
       "Business travel           3.00            3.27             3.46          3.55   \n",
       "Personal Travel           2.92            3.07             2.80          3.19   \n",
       "\n",
       "                 Inflight entertainment  On-board service  Leg room service  \\\n",
       "Type of Travel                                                                \n",
       "Business travel                    3.49              3.43              3.47   \n",
       "Personal Travel                    3.05              3.27              3.08   \n",
       "\n",
       "                 Baggage handling  Checkin service  Inflight service  \\\n",
       "Type of Travel                                                         \n",
       "Business travel              3.66             3.29              3.66   \n",
       "Personal Travel              3.57             3.34              3.60   \n",
       "\n",
       "                 Cleanliness  Inflight wifi service  \n",
       "Type of Travel                                       \n",
       "Business travel         3.36                   2.82  \n",
       "Personal Travel         3.12                   2.52  "
      ]
     },
     "execution_count": 38,
     "metadata": {},
     "output_type": "execute_result"
    }
   ],
   "source": [
    "#Business & Personal travel services comparison\n",
    "services = ['Departure/Arrival time convenient', 'Ease of Online booking', 'Gate location',\n",
    "            'Food and drink', 'Online boarding', 'Seat comfort', 'Inflight entertainment',\n",
    "            'On-board service', 'Leg room service', 'Baggage handling', 'Checkin service',\n",
    "            'Inflight service', 'Cleanliness', 'Inflight wifi service']\n",
    "\n",
    "type_mean = round(df.groupby('Type of Travel')[services].mean(), 2)\n",
    "\n",
    "overal_mean(type_mean)"
   ]
  },
  {
   "cell_type": "markdown",
   "metadata": {
    "id": "9xx6lRlezasV"
   },
   "source": [
    "Quantify the overal service satisfaction:\n",
    "- The company services are rate quite good for both type of travellers\n",
    "- Services are considered better from Business perspective\n",
    "- Departure/Arrival time convenient. This is way better for Personal travel than business"
   ]
  },
  {
   "cell_type": "code",
   "execution_count": 39,
   "metadata": {
    "colab": {
     "base_uri": "https://localhost:8080/",
     "height": 325
    },
    "executionInfo": {
     "elapsed": 61,
     "status": "ok",
     "timestamp": 1677942826575,
     "user": {
      "displayName": "Luca Ganzedda",
      "userId": "02068572815256769199"
     },
     "user_tz": -60
    },
    "id": "ZG3kNu41zasV",
    "outputId": "f7cd096d-dfa8-42ec-a3de-391758cef997"
   },
   "outputs": [
    {
     "name": "stdout",
     "output_type": "stream",
     "text": [
      "The overal service satisfaction mean for the type Loyal Customer is 3.28\n",
      "The overal service satisfaction mean for the type disloyal Customer is 3.05\n"
     ]
    },
    {
     "data": {
      "text/html": [
       "<div>\n",
       "<style scoped>\n",
       "    .dataframe tbody tr th:only-of-type {\n",
       "        vertical-align: middle;\n",
       "    }\n",
       "\n",
       "    .dataframe tbody tr th {\n",
       "        vertical-align: top;\n",
       "    }\n",
       "\n",
       "    .dataframe thead th {\n",
       "        text-align: right;\n",
       "    }\n",
       "</style>\n",
       "<table border=\"1\" class=\"dataframe\">\n",
       "  <thead>\n",
       "    <tr style=\"text-align: right;\">\n",
       "      <th></th>\n",
       "      <th>Departure/Arrival time convenient</th>\n",
       "      <th>Ease of Online booking</th>\n",
       "      <th>Gate location</th>\n",
       "      <th>Food and drink</th>\n",
       "      <th>Online boarding</th>\n",
       "      <th>Seat comfort</th>\n",
       "      <th>Inflight entertainment</th>\n",
       "      <th>On-board service</th>\n",
       "      <th>Leg room service</th>\n",
       "      <th>Baggage handling</th>\n",
       "      <th>Checkin service</th>\n",
       "      <th>Inflight service</th>\n",
       "      <th>Cleanliness</th>\n",
       "      <th>Inflight wifi service</th>\n",
       "    </tr>\n",
       "    <tr>\n",
       "      <th>Customer Type</th>\n",
       "      <th></th>\n",
       "      <th></th>\n",
       "      <th></th>\n",
       "      <th></th>\n",
       "      <th></th>\n",
       "      <th></th>\n",
       "      <th></th>\n",
       "      <th></th>\n",
       "      <th></th>\n",
       "      <th></th>\n",
       "      <th></th>\n",
       "      <th></th>\n",
       "      <th></th>\n",
       "      <th></th>\n",
       "    </tr>\n",
       "  </thead>\n",
       "  <tbody>\n",
       "    <tr>\n",
       "      <th>Loyal Customer</th>\n",
       "      <td>3.21</td>\n",
       "      <td>2.77</td>\n",
       "      <td>2.97</td>\n",
       "      <td>3.24</td>\n",
       "      <td>3.37</td>\n",
       "      <td>3.54</td>\n",
       "      <td>3.43</td>\n",
       "      <td>3.42</td>\n",
       "      <td>3.38</td>\n",
       "      <td>3.62</td>\n",
       "      <td>3.32</td>\n",
       "      <td>3.63</td>\n",
       "      <td>3.34</td>\n",
       "      <td>2.73</td>\n",
       "    </tr>\n",
       "    <tr>\n",
       "      <th>disloyal Customer</th>\n",
       "      <td>2.39</td>\n",
       "      <td>2.70</td>\n",
       "      <td>2.99</td>\n",
       "      <td>3.04</td>\n",
       "      <td>2.71</td>\n",
       "      <td>3.01</td>\n",
       "      <td>3.06</td>\n",
       "      <td>3.24</td>\n",
       "      <td>3.22</td>\n",
       "      <td>3.69</td>\n",
       "      <td>3.22</td>\n",
       "      <td>3.70</td>\n",
       "      <td>3.06</td>\n",
       "      <td>2.71</td>\n",
       "    </tr>\n",
       "  </tbody>\n",
       "</table>\n",
       "</div>"
      ],
      "text/plain": [
       "                   Departure/Arrival time convenient  Ease of Online booking  \\\n",
       "Customer Type                                                                  \n",
       "Loyal Customer                                  3.21                    2.77   \n",
       "disloyal Customer                               2.39                    2.70   \n",
       "\n",
       "                   Gate location  Food and drink  Online boarding  \\\n",
       "Customer Type                                                       \n",
       "Loyal Customer              2.97            3.24             3.37   \n",
       "disloyal Customer           2.99            3.04             2.71   \n",
       "\n",
       "                   Seat comfort  Inflight entertainment  On-board service  \\\n",
       "Customer Type                                                               \n",
       "Loyal Customer             3.54                    3.43              3.42   \n",
       "disloyal Customer          3.01                    3.06              3.24   \n",
       "\n",
       "                   Leg room service  Baggage handling  Checkin service  \\\n",
       "Customer Type                                                            \n",
       "Loyal Customer                 3.38              3.62             3.32   \n",
       "disloyal Customer              3.22              3.69             3.22   \n",
       "\n",
       "                   Inflight service  Cleanliness  Inflight wifi service  \n",
       "Customer Type                                                            \n",
       "Loyal Customer                 3.63         3.34                   2.73  \n",
       "disloyal Customer              3.70         3.06                   2.71  "
      ]
     },
     "execution_count": 39,
     "metadata": {},
     "output_type": "execute_result"
    }
   ],
   "source": [
    "#Customer Type difference\n",
    "customer_mean = round(df.groupby('Customer Type')[services].mean(), 2)\n",
    "\n",
    "overal_mean(customer_mean)"
   ]
  },
  {
   "cell_type": "markdown",
   "metadata": {
    "id": "MHiJvK-1zasY"
   },
   "source": [
    "Quantitive analysis:\n",
    "- Loyal Customers overal satisfaction is about 3.33/5. Really good\n",
    "- Disloyal customer, the quality of service is good as well with 3.08/5.\n",
    "- Main difference is between Departure/arrival time convenient where Loyal Customers consider really good in respect of disloyal customer. This service could be the main difference between Loyal Customer and Disolyal Customer."
   ]
  },
  {
   "cell_type": "code",
   "execution_count": 40,
   "metadata": {
    "colab": {
     "base_uri": "https://localhost:8080/",
     "height": 322
    },
    "executionInfo": {
     "elapsed": 53,
     "status": "ok",
     "timestamp": 1677942826576,
     "user": {
      "displayName": "Luca Ganzedda",
      "userId": "02068572815256769199"
     },
     "user_tz": -60
    },
    "id": "AJx3qkgazasZ",
    "outputId": "10211e5c-87ef-4953-f088-8926b252df6e"
   },
   "outputs": [
    {
     "name": "stdout",
     "output_type": "stream",
     "text": [
      "The overal service satisfaction mean for the type Business is 3.43\n",
      "The overal service satisfaction mean for the type Eco is 3.07\n",
      "The overal service satisfaction mean for the type Eco Plus is 3.06\n"
     ]
    },
    {
     "data": {
      "text/html": [
       "<div>\n",
       "<style scoped>\n",
       "    .dataframe tbody tr th:only-of-type {\n",
       "        vertical-align: middle;\n",
       "    }\n",
       "\n",
       "    .dataframe tbody tr th {\n",
       "        vertical-align: top;\n",
       "    }\n",
       "\n",
       "    .dataframe thead th {\n",
       "        text-align: right;\n",
       "    }\n",
       "</style>\n",
       "<table border=\"1\" class=\"dataframe\">\n",
       "  <thead>\n",
       "    <tr style=\"text-align: right;\">\n",
       "      <th></th>\n",
       "      <th>Departure/Arrival time convenient</th>\n",
       "      <th>Ease of Online booking</th>\n",
       "      <th>Gate location</th>\n",
       "      <th>Food and drink</th>\n",
       "      <th>Online boarding</th>\n",
       "      <th>Seat comfort</th>\n",
       "      <th>Inflight entertainment</th>\n",
       "      <th>On-board service</th>\n",
       "      <th>Leg room service</th>\n",
       "      <th>Baggage handling</th>\n",
       "      <th>Checkin service</th>\n",
       "      <th>Inflight service</th>\n",
       "      <th>Cleanliness</th>\n",
       "      <th>Inflight wifi service</th>\n",
       "    </tr>\n",
       "    <tr>\n",
       "      <th>Class</th>\n",
       "      <th></th>\n",
       "      <th></th>\n",
       "      <th></th>\n",
       "      <th></th>\n",
       "      <th></th>\n",
       "      <th></th>\n",
       "      <th></th>\n",
       "      <th></th>\n",
       "      <th></th>\n",
       "      <th></th>\n",
       "      <th></th>\n",
       "      <th></th>\n",
       "      <th></th>\n",
       "      <th></th>\n",
       "    </tr>\n",
       "  </thead>\n",
       "  <tbody>\n",
       "    <tr>\n",
       "      <th>Business</th>\n",
       "      <td>2.91</td>\n",
       "      <td>2.92</td>\n",
       "      <td>2.99</td>\n",
       "      <td>3.33</td>\n",
       "      <td>3.72</td>\n",
       "      <td>3.76</td>\n",
       "      <td>3.64</td>\n",
       "      <td>3.68</td>\n",
       "      <td>3.65</td>\n",
       "      <td>3.84</td>\n",
       "      <td>3.52</td>\n",
       "      <td>3.85</td>\n",
       "      <td>3.48</td>\n",
       "      <td>2.78</td>\n",
       "    </tr>\n",
       "    <tr>\n",
       "      <th>Eco</th>\n",
       "      <td>3.19</td>\n",
       "      <td>2.60</td>\n",
       "      <td>2.97</td>\n",
       "      <td>3.09</td>\n",
       "      <td>2.81</td>\n",
       "      <td>3.14</td>\n",
       "      <td>3.10</td>\n",
       "      <td>3.12</td>\n",
       "      <td>3.08</td>\n",
       "      <td>3.45</td>\n",
       "      <td>3.12</td>\n",
       "      <td>3.47</td>\n",
       "      <td>3.10</td>\n",
       "      <td>2.67</td>\n",
       "    </tr>\n",
       "    <tr>\n",
       "      <th>Eco Plus</th>\n",
       "      <td>3.21</td>\n",
       "      <td>2.66</td>\n",
       "      <td>2.97</td>\n",
       "      <td>3.11</td>\n",
       "      <td>2.89</td>\n",
       "      <td>3.17</td>\n",
       "      <td>3.12</td>\n",
       "      <td>3.04</td>\n",
       "      <td>3.06</td>\n",
       "      <td>3.35</td>\n",
       "      <td>3.01</td>\n",
       "      <td>3.38</td>\n",
       "      <td>3.12</td>\n",
       "      <td>2.76</td>\n",
       "    </tr>\n",
       "  </tbody>\n",
       "</table>\n",
       "</div>"
      ],
      "text/plain": [
       "          Departure/Arrival time convenient  Ease of Online booking  \\\n",
       "Class                                                                 \n",
       "Business                               2.91                    2.92   \n",
       "Eco                                    3.19                    2.60   \n",
       "Eco Plus                               3.21                    2.66   \n",
       "\n",
       "          Gate location  Food and drink  Online boarding  Seat comfort  \\\n",
       "Class                                                                    \n",
       "Business           2.99            3.33             3.72          3.76   \n",
       "Eco                2.97            3.09             2.81          3.14   \n",
       "Eco Plus           2.97            3.11             2.89          3.17   \n",
       "\n",
       "          Inflight entertainment  On-board service  Leg room service  \\\n",
       "Class                                                                  \n",
       "Business                    3.64              3.68              3.65   \n",
       "Eco                         3.10              3.12              3.08   \n",
       "Eco Plus                    3.12              3.04              3.06   \n",
       "\n",
       "          Baggage handling  Checkin service  Inflight service  Cleanliness  \\\n",
       "Class                                                                        \n",
       "Business              3.84             3.52              3.85         3.48   \n",
       "Eco                   3.45             3.12              3.47         3.10   \n",
       "Eco Plus              3.35             3.01              3.38         3.12   \n",
       "\n",
       "          Inflight wifi service  \n",
       "Class                            \n",
       "Business                   2.78  \n",
       "Eco                        2.67  \n",
       "Eco Plus                   2.76  "
      ]
     },
     "execution_count": 40,
     "metadata": {},
     "output_type": "execute_result"
    }
   ],
   "source": [
    "#Class difference\n",
    "class_mean = round(df.groupby('Class')[services].mean(), 2)\n",
    "\n",
    "overal_mean(class_mean)"
   ]
  },
  {
   "cell_type": "markdown",
   "metadata": {
    "id": "SIvMnrz9zasa"
   },
   "source": [
    "Quantitative analysis:\n",
    "- Business class is rated really good with a 3.48/5.\n",
    "- Services on Eco and Eco plus should be improved eventhough the overal grade is 3/5\n"
   ]
  },
  {
   "cell_type": "markdown",
   "metadata": {
    "id": "CMiQGzuTzasa"
   },
   "source": [
    "Characteristics of Unsatisfied customers:\n",
    "- Personal Travelers\n",
    "- Customers that book Eco and Eco Plus flight class\n",
    "- No-loyal customers "
   ]
  },
  {
   "cell_type": "markdown",
   "metadata": {
    "id": "jZbEicBqzasb"
   },
   "source": [
    "What We Know About Our Dataset:\n",
    "- This is an airline company that focuses its services on business travelers.\n",
    "- Other travelers choose this company specifically for its convenient departure and arrival times, which is suitable for their purposes.\n",
    "- Overall, personal travelers are not satisfied with their flight experience, even though they rate the overall service at about 3 out of 5.\n",
    "\n",
    "We'll focus our machine learning on understanding the key features that influence overall customer satisfaction and their impact."
   ]
  },
  {
   "cell_type": "markdown",
   "metadata": {
    "id": "tCKST0Okzasb"
   },
   "source": [
    "## Feature Engineering.\n",
    "\n",
    "Prepare dataset before build ML model\n",
    "\n",
    "Steps of Preprocessing\n",
    "- Feature engineering part 1 (categorical variable)\n",
    "    - One hot encoding is a technique used to transform categorical variables into a set of binary features. This involves creating n binary variables, where n is the number of categories in the categorical variable, and assigning a value of 1 to the variable that corresponds to the original category, and 0 to all other variables. This technique allows us to convert categorical data into a numerical format that can be interpreted by machine learning algorithms.\n",
    "    - Target Variable changed to numeric value\n",
    "        - 0 Unsatisfied\n",
    "        - 1 Satisfied \n",
    "    - Ordinal categoric variables have numeric format\n",
    "- Split dataset in training and test set:\n",
    "    - Check if the target variable is balanced (50% satisfied and 50% unsatisfied)\n",
    "    \n",
    "- Feature engineering part 2 (continuous numeric variable)\n",
    "    - The StandardScaler is a preprocessing technique used to standardize the data in a machine learning model. Standardization is used to remove the influence of different units or scales in the data (e.g., years, minutes, kg, etc.) by scaling the data so that it has zero mean and unit variance. \n",
    "    - The StandardScaler works by calculating the mean and standard deviation of each feature in the data, and then scaling each feature so that it has a mean of 0 and standard deviation of 1.  While ensemble algorithms like Random Forest and AdaBoost are relatively robust to differences in feature scales, scaling the data can still potentially improve the performance of these algorithms.\n",
    "    - Fit the Standard Scaler to Trainset\n",
    "    - Transform Trainset\n",
    "    - Transfor Testset with fit on trainset (ensure consistency in scaling data)\n",
    "    \n",
    "- Feature selection\n",
    "    - Multicollinearity analysis involves analyzing the linear relationship and correlation between continuous variables. In addition to the continuous features, I will also include ordinal features that can be treated as continuous, as well as the target variable, which can also be treated as a continuous variable, to analyze their relationships with the numeric features. \n",
    "    - Feature selection related to numeric and is an important step in feature selection that helps to understand whether variables (X) have a strong linear relationship or correlation. A standard threshold for correlation is 0.7. I will keep the variable that has a stronger correlation with the target variable, and I will drop the other variable from the machine learning model.\n",
    "    - By removing variables with high collinearity, we can improve the performance and interpretability of the model. This is because variables with high collinearity can lead to unstable model coefficients and make it difficult to understand the individual effects of each variable on the target variable.\n",
    "    - Chi square analsyis. Used for feature selection regarding categorical variable. It measures the significance between  two categorical variables. The aim is to include in our ML model categorical feature that has strong significance with our target variable.\n",
    "    - Select high correlated feature for the ML model based on the informations\n",
    " "
   ]
  },
  {
   "cell_type": "markdown",
   "metadata": {
    "id": "T7Z6MxEKzasc"
   },
   "source": [
    "Feature engineering part 1 (categorical variable)"
   ]
  },
  {
   "cell_type": "code",
   "execution_count": 41,
   "metadata": {
    "id": "k0qVL1SQzase"
   },
   "outputs": [],
   "source": [
    "#get cat variable\n",
    "cat = [var for var in df if df[var].dtype == 'O']\n",
    "\n",
    "#remove satisfaction. We don't need Y target\n",
    "cat.remove('satisfaction')\n",
    "\n",
    "#Encode categorical variable. Use one hot encoding\n",
    "df = pd.get_dummies(\n",
    "    df,\n",
    "    columns = cat)"
   ]
  },
  {
   "cell_type": "code",
   "execution_count": 42,
   "metadata": {
    "id": "nCIXUEHtzase"
   },
   "outputs": [],
   "source": [
    "#encode target variable\n",
    "from sklearn.preprocessing import LabelEncoder\n",
    "\n",
    "#Label encoder. A binary featuers will be encoded as 0 and 1\n",
    "encoder = LabelEncoder()\n",
    "df['satisfaction'] = encoder.fit_transform(df['satisfaction'])"
   ]
  },
  {
   "cell_type": "code",
   "execution_count": 43,
   "metadata": {
    "id": "Z6cZKgBLzasf"
   },
   "outputs": [],
   "source": [
    "#split into train and test set\n",
    "from sklearn.model_selection import train_test_split\n",
    "\n",
    "#divide predictors and target variable\n",
    "X = df.drop(columns = 'satisfaction')\n",
    "y = df['satisfaction']\n",
    "\n",
    "#PARTITIONING\n",
    "#data are shuffled and then splitted. To reproduce alwayes the same results we set up a random seed of 1\n",
    "X_train, X_test, y_train, y_test = train_test_split(X, y, test_size=0.3, random_state=1)"
   ]
  },
  {
   "cell_type": "code",
   "execution_count": 44,
   "metadata": {
    "colab": {
     "base_uri": "https://localhost:8080/"
    },
    "executionInfo": {
     "elapsed": 44,
     "status": "ok",
     "timestamp": 1677942826579,
     "user": {
      "displayName": "Luca Ganzedda",
      "userId": "02068572815256769199"
     },
     "user_tz": -60
    },
    "id": "os8U9V0ozasf",
    "outputId": "4689ed69-8419-4a8d-f8a2-645473022517"
   },
   "outputs": [
    {
     "name": "stdout",
     "output_type": "stream",
     "text": [
      "Train frequency 0    0.564917\n",
      "1    0.435083\n",
      "Name: satisfaction, dtype: float64\n",
      "Test frequency 0    0.566985\n",
      "1    0.433015\n",
      "Name: satisfaction, dtype: float64\n"
     ]
    }
   ],
   "source": [
    "#check dataset balance\n",
    "print('Train frequency', y_train.value_counts()/len(y_train))\n",
    "print('Test frequency', y_test.value_counts()/len(y_test))"
   ]
  },
  {
   "cell_type": "markdown",
   "metadata": {
    "id": "rAHj092fzasg"
   },
   "source": [
    "Both dataset are balanced"
   ]
  },
  {
   "cell_type": "markdown",
   "metadata": {
    "id": "aHXdWHZSzasg"
   },
   "source": [
    "Feature engineering part 2 (continuous numeric variable)"
   ]
  },
  {
   "cell_type": "code",
   "execution_count": 45,
   "metadata": {
    "id": "xTiO9FcVzasg"
   },
   "outputs": [],
   "source": [
    "from sklearn.preprocessing import StandardScaler\n",
    "\n",
    "#continuous numeric variable\n",
    "num = ['Age', 'Flight Distance', 'Departure Delay in Minutes']\n",
    "\n",
    "#Standard scaler as described previously\n",
    "scaler = StandardScaler()\n",
    "\n",
    "#Fit on trainset and scale it\n",
    "X_train[num] = scaler.fit_transform(X_train[num])\n",
    "\n",
    "#Scale test data based on train fitting\n",
    "X_test[num] = scaler.transform(X_test[num])"
   ]
  },
  {
   "cell_type": "markdown",
   "metadata": {
    "id": "0eu32DFEzash"
   },
   "source": [
    "## Feature Selection\n",
    "\n",
    "\n"
   ]
  },
  {
   "cell_type": "markdown",
   "metadata": {
    "id": "VlPK0wWFiqE_"
   },
   "source": [
    "Part 1: Multicollinearity. Analyze if the X variables are highly correlated. This can lead to a decrease in our model's performance since the model may not be able to distinguish between the two variables, resulting in inaccurate coefficient predictions"
   ]
  },
  {
   "cell_type": "code",
   "execution_count": 46,
   "metadata": {
    "colab": {
     "base_uri": "https://localhost:8080/",
     "height": 682
    },
    "executionInfo": {
     "elapsed": 3235,
     "status": "ok",
     "timestamp": 1677942831155,
     "user": {
      "displayName": "Luca Ganzedda",
      "userId": "02068572815256769199"
     },
     "user_tz": -60
    },
    "id": "-CmG4wkHzash",
    "outputId": "7c174eec-0f04-4dee-c8c0-f89c5eb73176",
    "scrolled": true
   },
   "outputs": [
    {
     "data": {
      "text/plain": [
       "<AxesSubplot: title={'center': 'Multicolinearity Analysis'}>"
      ]
     },
     "execution_count": 46,
     "metadata": {},
     "output_type": "execute_result"
    },
    {
     "data": {
      "image/png": "[encoded data removed]",
      "text/plain": [
       "<Figure size 1000x700 with 2 Axes>"
      ]
     },
     "metadata": {},
     "output_type": "display_data"
    }
   ],
   "source": [
    "#change X train format to DataFrame\n",
    "train_df = pd.DataFrame(X_train, columns=X.columns)\n",
    "\n",
    "#comput of numeric variable and ordinal categorical variable Pearson Correlation\n",
    "corr = round(train_df[num + services].corr(), 2)\n",
    "\n",
    "#create a list for removing features\n",
    "\n",
    "#plot it\n",
    "plt.figure(figsize = (10,7))\n",
    "mask = np.triu(np.ones_like(corr, dtype=bool))\n",
    "plt.title('Multicolinearity Analysis', fontsize = 45, pad = 20)\n",
    "sns.heatmap(corr, \n",
    "           annot = True,\n",
    "           cmap = 'viridis',\n",
    "           mask = mask)"
   ]
  },
  {
   "cell_type": "markdown",
   "metadata": {
    "id": "IqxQmWJPzasi"
   },
   "source": [
    "Threehsold for multicolinearity 0.8: no features above the threehsold\n",
    "\n",
    "\n",
    "Below threeshold but they are really high:\n",
    "- Inflight wifi services - Ease of online booking\n",
    "- Food & Drink and Cleanliness: High correlation 0.66\n",
    "- Cleaninless and Seat comfort: 0.68\n",
    "- Inflight Entertaiment: 0.69\n"
   ]
  },
  {
   "cell_type": "markdown",
   "metadata": {
    "id": "Er3gnytHzasi"
   },
   "source": [
    "\n",
    "Feature Selection.\n",
    "\n",
    "Part 2: Analyze correlation with target variable: satisfaction.\n",
    "Feature that I'll remove. Threehsold: below 0.20"
   ]
  },
  {
   "cell_type": "code",
   "execution_count": 47,
   "metadata": {
    "colab": {
     "base_uri": "https://localhost:8080/",
     "height": 502
    },
    "executionInfo": {
     "elapsed": 2008,
     "status": "ok",
     "timestamp": 1677942833147,
     "user": {
      "displayName": "Luca Ganzedda",
      "userId": "02068572815256769199"
     },
     "user_tz": -60
    },
    "id": "sCewyd7vzasi",
    "outputId": "a31a659d-2a95-427e-a4a0-2a06c0a60e94"
   },
   "outputs": [
    {
     "data": {
      "text/plain": [
       "<AxesSubplot: title={'center': 'Target correlation'}>"
      ]
     },
     "execution_count": 47,
     "metadata": {},
     "output_type": "execute_result"
    },
    {
     "data": {
      "image/png": "[encoded data removed]",
      "text/plain": [
       "<Figure size 1000x700 with 2 Axes>"
      ]
     },
     "metadata": {},
     "output_type": "display_data"
    }
   ],
   "source": [
    "#Create a new train dataset and add Target feature (y)\n",
    "train_df['satisfaction'] = pd.Series(y_train)\n",
    "\n",
    "#list of numeric features, services (categorical variable) and y target\n",
    "num_cols = num + services + ['satisfaction']\n",
    "\n",
    "#compute pearson correlation\n",
    "corr = train_df[num_cols].corr()[['satisfaction']].sort_values(by = \n",
    "                                                               'satisfaction', \n",
    "                                                               ascending = False)\n",
    "\n",
    "#plot it\n",
    "plt.figure(figsize = (10,7))\n",
    "mask = np.triu(np.ones_like(corr, dtype=bool))\n",
    "plt.title('Target correlation', fontsize = 45, pad = 20)\n",
    "sns.heatmap(corr, \n",
    "           annot = True,\n",
    "           cmap = 'viridis',\n",
    "           mask = mask)"
   ]
  },
  {
   "cell_type": "markdown",
   "metadata": {
    "id": "wUy8FW9rT8qP"
   },
   "source": [
    "Removing variable"
   ]
  },
  {
   "cell_type": "code",
   "execution_count": 48,
   "metadata": {
    "colab": {
     "base_uri": "https://localhost:8080/"
    },
    "executionInfo": {
     "elapsed": 23,
     "status": "ok",
     "timestamp": 1677942833148,
     "user": {
      "displayName": "Luca Ganzedda",
      "userId": "02068572815256769199"
     },
     "user_tz": -60
    },
    "id": "9EP1kViGHbdj",
    "outputId": "0dfd74e5-6a59-40b0-d9c7-cab642ae43ec"
   },
   "outputs": [
    {
     "name": "stdout",
     "output_type": "stream",
     "text": [
      "var to remove Ease of Online booking because has a coef between = 0.17\n",
      "var to remove Age because has a coef between = 0.13\n",
      "var to remove Gate location because has a coef between = -0.0\n",
      "var to remove Departure/Arrival time convenient because has a coef between = -0.05\n",
      "var to remove Departure Delay in Minutes because has a coef between = -0.06\n"
     ]
    }
   ],
   "source": [
    "#set threshold\n",
    "pos_threshold = 0.20\n",
    "neg_threshold = -0.20\n",
    "\n",
    "#create new list for keeping on track variables that we need to remove\n",
    "rem_var = []\n",
    "\n",
    "#script for removing variable\n",
    "for var, coef in zip(corr.index, corr['satisfaction']):\n",
    "  \n",
    "  #condition\n",
    "  if coef < pos_threshold and coef > neg_threshold:\n",
    "    #add variable to the list\n",
    "    rem_var.append(str(var))\n",
    "\n",
    "    print(f'var to remove {var} because has a coef between = {round(coef,2)}')"
   ]
  },
  {
   "cell_type": "markdown",
   "metadata": {
    "id": "DToYoLJ0zasj"
   },
   "source": [
    "Features that have corr coefficent lower than 0.10 or bigger than -0.10:\n",
    "- Departure/Arrival time convenient\n",
    "- Departure Delay in Minutes\n",
    "- Gate Location\n",
    "- Age\n",
    "- Ease of Online booking"
   ]
  },
  {
   "cell_type": "markdown",
   "metadata": {
    "id": "kvIyFoJOzasj"
   },
   "source": [
    "Feature Selection part 2:\n",
    "Chi-square test. Check the relationship between our Y and nominal variables X"
   ]
  },
  {
   "cell_type": "code",
   "execution_count": 49,
   "metadata": {
    "colab": {
     "base_uri": "https://localhost:8080/"
    },
    "executionInfo": {
     "elapsed": 22,
     "status": "ok",
     "timestamp": 1677942833149,
     "user": {
      "displayName": "Luca Ganzedda",
      "userId": "02068572815256769199"
     },
     "user_tz": -60
    },
    "id": "r8rxHtcfzasj",
    "outputId": "0a2886ef-bb43-4ab0-9144-7dc503b31785"
   },
   "outputs": [
    {
     "name": "stdout",
     "output_type": "stream",
     "text": [
      "Chi-square test for Gender_Female and Satisfaction: \n",
      " p-value = 0.0, \n",
      " chi-square 12.31\n",
      "Chi-square test for Gender_Male and Satisfaction: \n",
      " p-value = 0.0, \n",
      " chi-square 12.31\n",
      "Chi-square test for Customer Type_Loyal Customer and Satisfaction: \n",
      " p-value = 0.0, \n",
      " chi-square 3089.68\n",
      "Chi-square test for Customer Type_disloyal Customer and Satisfaction: \n",
      " p-value = 0.0, \n",
      " chi-square 3089.68\n",
      "Chi-square test for Type of Travel_Business travel and Satisfaction: \n",
      " p-value = 0.0, \n",
      " chi-square 18460.6\n",
      "Chi-square test for Type of Travel_Personal Travel and Satisfaction: \n",
      " p-value = 0.0, \n",
      " chi-square 18460.6\n",
      "Chi-square test for Class_Business and Satisfaction: \n",
      " p-value = 0.0, \n",
      " chi-square 22940.78\n",
      "Chi-square test for Class_Eco and Satisfaction: \n",
      " p-value = 0.0, \n",
      " chi-square 18509.95\n",
      "Chi-square test for Class_Eco Plus and Satisfaction: \n",
      " p-value = 0.0, \n",
      " chi-square 948.86\n"
     ]
    }
   ],
   "source": [
    "from scipy.stats import chi2_contingency\n",
    "\n",
    "#categories (dummy)\n",
    "cat = ['Gender_Female',\n",
    "                 'Gender_Male',\n",
    "                 'Customer Type_Loyal Customer',\n",
    "                 'Customer Type_disloyal Customer',\n",
    "                 'Type of Travel_Business travel',\n",
    "                 'Type of Travel_Personal Travel',\n",
    "                 'Class_Business',\n",
    "                 'Class_Eco',\n",
    "                 'Class_Eco Plus']\n",
    "\n",
    "#set threshold\n",
    "chi2_threshold = 1000\n",
    "\n",
    "#Compute Chi2\n",
    "for col in cat:\n",
    "    #contingency table\n",
    "    chi2_table = pd.crosstab(train_df[col], train_df['satisfaction'])\n",
    "    #compute chi2\n",
    "    chi2, p, dof, expected = chi2_contingency(chi2_table)\n",
    "    #remove variable\n",
    "    print(f\"Chi-square test for {col} and Satisfaction: \\n p-value = {round(p,2)}, \\n chi-square {round(chi2,2)}\")\n",
    "\n",
    "    #keep track of unrelated features\n",
    "    if chi2 < chi2_threshold:\n",
    "      rem_var.append(str(col))"
   ]
  },
  {
   "cell_type": "markdown",
   "metadata": {
    "id": "E7rdjK4fzask"
   },
   "source": [
    "Feature Selection based on Chi-square. Removing:\n",
    "- Gender: Male and Female\n",
    "- Flight class: Ecoplus"
   ]
  },
  {
   "cell_type": "markdown",
   "metadata": {
    "id": "YN0odyrQzask"
   },
   "source": [
    "Overal feature selection which I removed:\n",
    "Pearson coef:\n",
    "- Easy of Online Booing \n",
    "- Departure/Arrival time convenient \n",
    "- Departure Delay in Minutes \n",
    "- Gate location \n",
    "- Age \n",
    "Chi2:\n",
    "- Gender\n",
    "- Eco_plus\n"
   ]
  },
  {
   "cell_type": "markdown",
   "metadata": {
    "id": "GsdNnBZCzasl"
   },
   "source": [
    "#Machine Learning: Introduction\n",
    "This is a classification problem. Our target is to predict satisfaction of clients, which is a binary class: Satisfied or not satisfied.\n",
    "Based on that the model which I've selected are:\n",
    "- Logistic regression (low complexity)\n",
    "- Randomforest (ensemble model)\n",
    "- Adaboost (ensemble model)\n",
    "\n",
    "First part: use all variables\n",
    "\n",
    "Second part: use variables from feature selection\n"
   ]
  },
  {
   "cell_type": "markdown",
   "metadata": {
    "id": "P-V9YHPFzasl"
   },
   "source": [
    "## Machine Learning: Evaluation Metrics definition\n",
    "\n",
    "For a classification problem, we can measure the efficacy of an ML model using the following metrics:\n",
    "\n",
    "- Accuracy: a standard metric for classification problems that represents the ratio of correctly predicted entities to the total number of entities. It is a good metric if the dataset is balanced. However, if the dataset is imbalanced, accuracy alone won't provide a complete picture of how well the ML model predicts each class label.\n",
    "- Precision: a metric that evaluates the proportion of true positive labels among all predicted positive labels (true positive / (true positive + false positive)).\n",
    "- Recall (Sensitivity): a metric that explains the proportion of actual positive cases that were correctly predicted by the model (true positive / (true positive + false negative)). The importance of this metric depends on the project and goals. For example, in healthcare, it may be more important to reduce false negatives (i.e., people who are sick but are labeled as healthy by the model) than false positives.\n",
    "\n",
    "By considering these metrics, we can evaluate the performance of an ML model and make informed decisions about its suitability for a particular task.\n",
    "\n",
    "\n",
    "For our case where we aim to predict client satisfaction and the dataset is well balanced, we can prioritize our model evaluation using accuracy as a metric.\n",
    "\n",
    "However, if the purpose is to predict satisfied clients to offer them special deals, it is crucial to reduce false negatives (i.e., clients who are classified as unsatisfied but are actually satisfied). This is important because it could lead to a loss of profits and loyal customers who may accept offers or join a loyalty program. Therefore, in this scenario, recall (sensitivity) would be a more relevant metric to evaluate the model's performance.\n"
   ]
  },
  {
   "cell_type": "markdown",
   "metadata": {
    "id": "-QHHwCYozasm"
   },
   "source": [
    "# Machine learning part 1: ALL FEATURES\n",
    "\n",
    "\n",
    "\n"
   ]
  },
  {
   "cell_type": "markdown",
   "metadata": {
    "id": "kUlUC8ng0pUq"
   },
   "source": [
    "## Logistic regression\n",
    "\n",
    "Logistic regression is a supervised model for classification problems. \n",
    "The logic behind the logistic regression is to predict the probability of a binary target variable given certain data & feature. In this case, the aim is to predict the probability  or the likelihood that a client will be satisfied or not (y) about the airline company which it could depends on on several features (X) such as age, type of travel, services rating etc."
   ]
  },
  {
   "cell_type": "code",
   "execution_count": 50,
   "metadata": {
    "colab": {
     "base_uri": "https://localhost:8080/"
    },
    "executionInfo": {
     "elapsed": 41992,
     "status": "ok",
     "timestamp": 1677942875132,
     "user": {
      "displayName": "Luca Ganzedda",
      "userId": "02068572815256769199"
     },
     "user_tz": -60
    },
    "id": "6oRKkl6WfHWp",
    "outputId": "f518b86f-481d-4bfe-f3c6-89e31be8fde3"
   },
   "outputs": [
    {
     "name": "stdout",
     "output_type": "stream",
     "text": [
      "Logistic Regression 0.8745435514465427\n"
     ]
    }
   ],
   "source": [
    "from sklearn import model_selection\n",
    "from sklearn.linear_model import LogisticRegression\n",
    "\n",
    "#set kfold. 10 blocks\n",
    "kfold = model_selection.KFold(n_splits=5)\n",
    "\n",
    "#model\n",
    "model = LogisticRegression()\n",
    "\n",
    "#accurancy score\n",
    "results = model_selection.cross_val_score(model, X_train, y_train, cv=kfold)\n",
    "\n",
    "print('Logistic Regression', results.mean())"
   ]
  },
  {
   "cell_type": "markdown",
   "metadata": {
    "id": "PIxtX_Akzasn"
   },
   "source": [
    "## RandomForest\n",
    "\n",
    "RandomForest is a superived \"ensembled\" model for both classifiction and regression problems. Ensemble because it's an ensemble of many TreeClassifier. Insteand that run an single Tree, RandomForest run k TreeClassifier and adjust they by useing the average which improves the predictive accuracy and controls the over-fitting. A weak ML model became a strong one. Each tree is indipented. \n",
    "\n",
    "The overal score is an average of all sub-tree "
   ]
  },
  {
   "cell_type": "code",
   "execution_count": 51,
   "metadata": {
    "colab": {
     "base_uri": "https://localhost:8080/"
    },
    "executionInfo": {
     "elapsed": 132049,
     "status": "ok",
     "timestamp": 1677943007174,
     "user": {
      "displayName": "Luca Ganzedda",
      "userId": "02068572815256769199"
     },
     "user_tz": -60
    },
    "id": "W8yYO4c-fwGe",
    "outputId": "59e9d756-a53d-4135-f06b-cce56f258ca0"
   },
   "outputs": [
    {
     "name": "stdout",
     "output_type": "stream",
     "text": [
      "Random Forest 0.9628448264369196\n"
     ]
    }
   ],
   "source": [
    "from sklearn.ensemble import RandomForestClassifier\n",
    "\n",
    "#model\n",
    "model = RandomForestClassifier()\n",
    "\n",
    "#accurancy score\n",
    "results = model_selection.cross_val_score(model, X_train, y_train, cv=kfold)\n",
    "\n",
    "print('Random Forest', results.mean())"
   ]
  },
  {
   "cell_type": "markdown",
   "metadata": {
    "id": "7JZl5Jhmzaso"
   },
   "source": [
    "## Adaboost\n",
    "\n",
    "Adaboost is a superived \"ensembled\" model for both classifiction and regression problems. Ensemble because it's an ensemble of many TreeClassifier. Insteand that run an single Tree which are build one by one. Adaboost run k TreeClassifier (like RandomForest) and adjust overal performace by adjusiting weights of incorrectly classified of the previous tree tances focusing more on difficult cases in the next tree. \n",
    "\n",
    "Tree are connected one by one, like chain. The aim is that each tree aims to improve the accurancy of the previous tree."
   ]
  },
  {
   "cell_type": "code",
   "execution_count": 52,
   "metadata": {
    "colab": {
     "base_uri": "https://localhost:8080/"
    },
    "executionInfo": {
     "elapsed": 47798,
     "status": "ok",
     "timestamp": 1677943054965,
     "user": {
      "displayName": "Luca Ganzedda",
      "userId": "02068572815256769199"
     },
     "user_tz": -60
    },
    "id": "jHeu1r3cf8kd",
    "outputId": "9633e748-ca9c-40db-8693-bd97a501a77a"
   },
   "outputs": [
    {
     "name": "stdout",
     "output_type": "stream",
     "text": [
      "AdaBoost 0.926855577088765\n"
     ]
    }
   ],
   "source": [
    "from sklearn.ensemble import AdaBoostClassifier\n",
    "\n",
    "#model\n",
    "model = AdaBoostClassifier()\n",
    "\n",
    "#accurancy score\n",
    "results = model_selection.cross_val_score(model, X_train, y_train, cv=kfold)\n",
    "\n",
    "print('AdaBoost', results.mean())"
   ]
  },
  {
   "cell_type": "markdown",
   "metadata": {
    "id": "fs4z70SRzasp"
   },
   "source": [
    "## Overal model evaluation\n",
    "\n",
    "Based on the initial model evaluation, the following observations can be made:\n",
    "\n",
    "- RandomForest & Adaboost are the best ML model for this classification problem.\n",
    "- The accuracy levels are of 0.96 and 0.92 indicates that they are both good predictors.\n",
    " \n",
    "It is worth noting that this is a simple model without any tuning or feature selection.\n",
    "\n",
    "\n"
   ]
  },
  {
   "cell_type": "markdown",
   "metadata": {
    "id": "R79Y4qiGhS0w"
   },
   "source": [
    "## Machine Learning: Tuning hyperparameters\n",
    "\n",
    "Tuning HyperParameters: Hyperparemters are parameters that aren't trainied by the model itself but are hardcoded parameters chosen by the datascientist. As there could be many possibility, tuning hyperparameters it's an critical datascience project to optimize our ML model. I'll use the GridSearch methods. \n",
    "\n",
    "This is how it works:\n",
    "K-Crossfolder validation: run the ML model k times, depending on how we want to split the dataset\n",
    "Run several hyperparemters combinations\n",
    "Choose the best hyperparameters based on the overal score (accurancy in our case)."
   ]
  },
  {
   "cell_type": "markdown",
   "metadata": {
    "id": "xZyvOfH_hpeW"
   },
   "source": [
    "### Adaboost\n",
    "\n",
    "Hyperparameters:\n",
    "- n_estimators = number of weak estimators (how many trees). The larger the better, but also the longer it will take to compute. In addition, note that results will stop getting significantly better beyond a critical number of trees.\n",
    "- learning_rate: contribution of each weak learner. Decreasing this value could help to limit the overfitting"
   ]
  },
  {
   "cell_type": "code",
   "execution_count": 53,
   "metadata": {
    "colab": {
     "base_uri": "https://localhost:8080/"
    },
    "executionInfo": {
     "elapsed": 905768,
     "status": "ok",
     "timestamp": 1677943960725,
     "user": {
      "displayName": "Luca Ganzedda",
      "userId": "02068572815256769199"
     },
     "user_tz": -60
    },
    "id": "nCnmibqkhYBU",
    "outputId": "28945712-039f-4c94-c224-0d12cb261308"
   },
   "outputs": [
    {
     "name": "stdout",
     "output_type": "stream",
     "text": [
      "{'n_estimators': 200, 'learning_rate': 1.0}\n"
     ]
    }
   ],
   "source": [
    "from sklearn.model_selection import RandomizedSearchCV\n",
    "\n",
    "#Model\n",
    "model = AdaBoostClassifier()\n",
    "\n",
    "#Define hyperparameters\n",
    "param_grid = {'n_estimators': [50, 100, 200], \n",
    "              'learning_rate': [0.1, 0.5, 1.0], \n",
    "              }\n",
    "\n",
    "#GridCross validation\n",
    "grid_search = RandomizedSearchCV(model, param_grid, cv=kfold)\n",
    "grid_search.fit(X_train, y_train)\n",
    "\n",
    "#check results\n",
    "print(grid_search.best_params_)\n",
    "\n",
    "#check parameters on test set\n",
    "best_ada_boost = grid_search.best_estimator_\n",
    "val_acc = best_ada_boost.score(X_test, y_test)\n"
   ]
  },
  {
   "cell_type": "code",
   "execution_count": 54,
   "metadata": {
    "colab": {
     "base_uri": "https://localhost:8080/"
    },
    "executionInfo": {
     "elapsed": 21,
     "status": "ok",
     "timestamp": 1677943960728,
     "user": {
      "displayName": "Luca Ganzedda",
      "userId": "02068572815256769199"
     },
     "user_tz": -60
    },
    "id": "hcIF1cMKhyff",
    "outputId": "b9ecbbcf-b00d-4710-cede-4ef65daf9f0d"
   },
   "outputs": [
    {
     "name": "stdout",
     "output_type": "stream",
     "text": [
      "Validation accuracy Adaboost: 0.9295\n"
     ]
    }
   ],
   "source": [
    "print('Validation accuracy Adaboost:', round(val_acc, 4))"
   ]
  },
  {
   "cell_type": "markdown",
   "metadata": {
    "id": "FJEWsqnEh448"
   },
   "source": [
    "### Random Forest\n",
    "\n",
    "Hyperparameters:\n",
    "- n_estimators defines the number of trees to be used in the model \n",
    "- max_features limits a count to select the maximum features in each tree\n",
    "- max_depth determines the maximum number of splits each tree can take. If the max_depth is too low, the model will be trained less and have a high bias, leading the model to underfit. In the same way, if the max_depth is high, the model learns too much and leads to high variance, leading the model to overfit\n",
    "- max_leaf_nodes: set up how divisions of nodes should be done is specified by max_lead_nodes. max_leaf_nodes restricts the growth of each tree. "
   ]
  },
  {
   "cell_type": "code",
   "execution_count": 55,
   "metadata": {
    "id": "d9EKvC89h5Oj"
   },
   "outputs": [
    {
     "name": "stdout",
     "output_type": "stream",
     "text": [
      "{'n_estimators': 150, 'max_leaf_nodes': 9, 'max_features': 'sqrt', 'max_depth': 3}\n"
     ]
    }
   ],
   "source": [
    "#Model\n",
    "model = RandomForestClassifier()\n",
    "\n",
    "#Define hyperparameters\n",
    "param_grid = [{'n_estimators': [25, 50, 100, 150],\n",
    "    'max_features': ['sqrt', 'log2', None],\n",
    "    'max_depth': [3, 6, 9],\n",
    "    'max_leaf_nodes': [3, 6, 9],\n",
    "}]\n",
    "\n",
    "#GridCross validation\n",
    "grid_search = RandomizedSearchCV(model, param_grid, cv=kfold)\n",
    "grid_search.fit(X_train, y_train)\n",
    "\n",
    "#check results\n",
    "print(grid_search.best_params_)\n",
    "\n",
    "#check parameters on test set\n",
    "best_log_boost = grid_search.best_estimator_\n",
    "val_acc = best_log_boost.score(X_test, y_test)"
   ]
  },
  {
   "cell_type": "code",
   "execution_count": 56,
   "metadata": {
    "id": "Uuw1wzt6iN1-"
   },
   "outputs": [
    {
     "name": "stdout",
     "output_type": "stream",
     "text": [
      "Validation accuracy RandomForest 0.8867\n"
     ]
    }
   ],
   "source": [
    "print('Validation accuracy RandomForest', round(val_acc, 4))"
   ]
  },
  {
   "cell_type": "markdown",
   "metadata": {},
   "source": [
    "## Overal model valuation\n",
    "\n",
    "After tuning the hyperparameters and testing the ML models on a test dataset, the best performing model was found to be ADAboost with a validation accuracy of 0.9295. On the other hand, Random Forest underperformed on the test set with an accuracy of 0.8949, compared to 0.96 on the training set, indicating overfitting. \n",
    "\n",
    "Therefore, the best model chosen is Adaboost."
   ]
  },
  {
   "cell_type": "markdown",
   "metadata": {
    "id": "bHTKBLsp7jSO"
   },
   "source": [
    "# Machine learning part 2: Selected Features \n",
    "\n",
    "Next, we will proceed with the second approach, where we will only select variables based on the feature selection performed in the last part of the exploratory data analysis (EDA)."
   ]
  },
  {
   "cell_type": "code",
   "execution_count": 57,
   "metadata": {
    "id": "FR1TkI0czast"
   },
   "outputs": [
    {
     "data": {
      "text/html": [
       "<div>\n",
       "<style scoped>\n",
       "    .dataframe tbody tr th:only-of-type {\n",
       "        vertical-align: middle;\n",
       "    }\n",
       "\n",
       "    .dataframe tbody tr th {\n",
       "        vertical-align: top;\n",
       "    }\n",
       "\n",
       "    .dataframe thead th {\n",
       "        text-align: right;\n",
       "    }\n",
       "</style>\n",
       "<table border=\"1\" class=\"dataframe\">\n",
       "  <thead>\n",
       "    <tr style=\"text-align: right;\">\n",
       "      <th></th>\n",
       "      <th>Flight Distance</th>\n",
       "      <th>Inflight wifi service</th>\n",
       "      <th>Food and drink</th>\n",
       "      <th>Online boarding</th>\n",
       "      <th>Seat comfort</th>\n",
       "      <th>Inflight entertainment</th>\n",
       "      <th>On-board service</th>\n",
       "      <th>Leg room service</th>\n",
       "      <th>Baggage handling</th>\n",
       "      <th>Checkin service</th>\n",
       "      <th>Inflight service</th>\n",
       "      <th>Cleanliness</th>\n",
       "      <th>Customer Type_Loyal Customer</th>\n",
       "      <th>Customer Type_disloyal Customer</th>\n",
       "      <th>Type of Travel_Business travel</th>\n",
       "      <th>Type of Travel_Personal Travel</th>\n",
       "      <th>Class_Business</th>\n",
       "      <th>Class_Eco</th>\n",
       "    </tr>\n",
       "    <tr>\n",
       "      <th>client_id</th>\n",
       "      <th></th>\n",
       "      <th></th>\n",
       "      <th></th>\n",
       "      <th></th>\n",
       "      <th></th>\n",
       "      <th></th>\n",
       "      <th></th>\n",
       "      <th></th>\n",
       "      <th></th>\n",
       "      <th></th>\n",
       "      <th></th>\n",
       "      <th></th>\n",
       "      <th></th>\n",
       "      <th></th>\n",
       "      <th></th>\n",
       "      <th></th>\n",
       "      <th></th>\n",
       "      <th></th>\n",
       "    </tr>\n",
       "  </thead>\n",
       "  <tbody>\n",
       "    <tr>\n",
       "      <th>93048</th>\n",
       "      <td>-0.875720</td>\n",
       "      <td>2</td>\n",
       "      <td>5</td>\n",
       "      <td>4</td>\n",
       "      <td>5</td>\n",
       "      <td>5</td>\n",
       "      <td>2</td>\n",
       "      <td>5</td>\n",
       "      <td>3</td>\n",
       "      <td>1</td>\n",
       "      <td>1</td>\n",
       "      <td>5</td>\n",
       "      <td>1</td>\n",
       "      <td>0</td>\n",
       "      <td>0</td>\n",
       "      <td>1</td>\n",
       "      <td>0</td>\n",
       "      <td>1</td>\n",
       "    </tr>\n",
       "    <tr>\n",
       "      <th>16904</th>\n",
       "      <td>-0.445725</td>\n",
       "      <td>2</td>\n",
       "      <td>4</td>\n",
       "      <td>1</td>\n",
       "      <td>4</td>\n",
       "      <td>4</td>\n",
       "      <td>4</td>\n",
       "      <td>5</td>\n",
       "      <td>4</td>\n",
       "      <td>3</td>\n",
       "      <td>4</td>\n",
       "      <td>4</td>\n",
       "      <td>1</td>\n",
       "      <td>0</td>\n",
       "      <td>0</td>\n",
       "      <td>1</td>\n",
       "      <td>0</td>\n",
       "      <td>1</td>\n",
       "    </tr>\n",
       "    <tr>\n",
       "      <th>51615</th>\n",
       "      <td>-0.822597</td>\n",
       "      <td>3</td>\n",
       "      <td>3</td>\n",
       "      <td>4</td>\n",
       "      <td>3</td>\n",
       "      <td>3</td>\n",
       "      <td>4</td>\n",
       "      <td>5</td>\n",
       "      <td>1</td>\n",
       "      <td>1</td>\n",
       "      <td>5</td>\n",
       "      <td>3</td>\n",
       "      <td>0</td>\n",
       "      <td>1</td>\n",
       "      <td>1</td>\n",
       "      <td>0</td>\n",
       "      <td>0</td>\n",
       "      <td>1</td>\n",
       "    </tr>\n",
       "  </tbody>\n",
       "</table>\n",
       "</div>"
      ],
      "text/plain": [
       "           Flight Distance  Inflight wifi service  Food and drink  \\\n",
       "client_id                                                           \n",
       "93048            -0.875720                      2               5   \n",
       "16904            -0.445725                      2               4   \n",
       "51615            -0.822597                      3               3   \n",
       "\n",
       "           Online boarding  Seat comfort  Inflight entertainment  \\\n",
       "client_id                                                          \n",
       "93048                    4             5                       5   \n",
       "16904                    1             4                       4   \n",
       "51615                    4             3                       3   \n",
       "\n",
       "           On-board service  Leg room service  Baggage handling  \\\n",
       "client_id                                                         \n",
       "93048                     2                 5                 3   \n",
       "16904                     4                 5                 4   \n",
       "51615                     4                 5                 1   \n",
       "\n",
       "           Checkin service  Inflight service  Cleanliness  \\\n",
       "client_id                                                   \n",
       "93048                    1                 1            5   \n",
       "16904                    3                 4            4   \n",
       "51615                    1                 5            3   \n",
       "\n",
       "           Customer Type_Loyal Customer  Customer Type_disloyal Customer  \\\n",
       "client_id                                                                  \n",
       "93048                                 1                                0   \n",
       "16904                                 1                                0   \n",
       "51615                                 0                                1   \n",
       "\n",
       "           Type of Travel_Business travel  Type of Travel_Personal Travel  \\\n",
       "client_id                                                                   \n",
       "93048                                   0                               1   \n",
       "16904                                   0                               1   \n",
       "51615                                   1                               0   \n",
       "\n",
       "           Class_Business  Class_Eco  \n",
       "client_id                             \n",
       "93048                   0          1  \n",
       "16904                   0          1  \n",
       "51615                   0          1  "
      ]
     },
     "execution_count": 57,
     "metadata": {},
     "output_type": "execute_result"
    }
   ],
   "source": [
    "#create new train e test dataset\n",
    "X_train_2, X_test_2 = X_train, X_test\n",
    "\n",
    "#remove columns\n",
    "X_train_2 = X_train_2.drop(columns = rem_var)\n",
    "X_test_2 = X_test_2.drop(columns = rem_var)\n",
    "\n",
    "#check dataset\n",
    "X_train_2.head(3)"
   ]
  },
  {
   "cell_type": "markdown",
   "metadata": {
    "id": "rA_UN8627oj8"
   },
   "source": [
    "## Logistic regression"
   ]
  },
  {
   "cell_type": "code",
   "execution_count": 58,
   "metadata": {
    "id": "BweX_DQE7yZV"
   },
   "outputs": [
    {
     "name": "stdout",
     "output_type": "stream",
     "text": [
      "Logistic Regression 0.8717497759917933\n"
     ]
    }
   ],
   "source": [
    "#model\n",
    "model = LogisticRegression()\n",
    "\n",
    "#accurancy score\n",
    "results = model_selection.cross_val_score(model, X_train_2, y_train, cv=kfold)\n",
    "\n",
    "print('Logistic Regression', results.mean())"
   ]
  },
  {
   "cell_type": "markdown",
   "metadata": {
    "id": "GPeyyo5U8Lt2"
   },
   "source": [
    "## RandomForest"
   ]
  },
  {
   "cell_type": "code",
   "execution_count": 59,
   "metadata": {
    "id": "RXJPf7Of8Ox2"
   },
   "outputs": [
    {
     "name": "stdout",
     "output_type": "stream",
     "text": [
      "Random Forest 0.9594680798013858\n"
     ]
    }
   ],
   "source": [
    "#model\n",
    "model = RandomForestClassifier()\n",
    "\n",
    "#accurancy score\n",
    "results = model_selection.cross_val_score(model, X_train_2, y_train, cv=kfold)\n",
    "\n",
    "print('Random Forest', results.mean())"
   ]
  },
  {
   "cell_type": "markdown",
   "metadata": {
    "id": "FWVWGTuT8aw_"
   },
   "source": [
    "## Adaboost"
   ]
  },
  {
   "cell_type": "code",
   "execution_count": 60,
   "metadata": {
    "id": "MgolMaBgzast"
   },
   "outputs": [
    {
     "name": "stdout",
     "output_type": "stream",
     "text": [
      "AdaBoost 0.9254696847146644\n"
     ]
    }
   ],
   "source": [
    "#model\n",
    "model = AdaBoostClassifier()\n",
    "\n",
    "#accurancy score\n",
    "results = model_selection.cross_val_score(model, X_train_2, y_train, cv=kfold)\n",
    "\n",
    "print('AdaBoost', results.mean())"
   ]
  },
  {
   "cell_type": "code",
   "execution_count": null,
   "metadata": {},
   "outputs": [],
   "source": []
  },
  {
   "cell_type": "markdown",
   "metadata": {
    "id": "Mg3k6vS28fba"
   },
   "source": [
    "## Overal model Evaluation\n",
    "\n",
    "\n",
    "After the a spotcheck, the best performing model is found to be RandomForest with a validation accuracy of 0.9592 and Adaboost with 0.9254.\n",
    "\n",
    "Therefore, I'll continue the hyperparameters tunning and final test on test dataset in the next part"
   ]
  },
  {
   "cell_type": "markdown",
   "metadata": {
    "id": "4joQ8LJy9Xaj"
   },
   "source": [
    "## Machine Learning: Tuning hyperparameters"
   ]
  },
  {
   "cell_type": "markdown",
   "metadata": {
    "id": "OUXXB5Dazasu"
   },
   "source": [
    "Tuning HyperParameters: \n",
    "Hyperparemters are parameters that aren't trainied by the model itself but are hardcoded parameters chosen by the datascientist. As there could be many possibility, tuning hyperparameters it's an critical datascience project to optimize our ML model.\n",
    "I'll use the  RandomizedSearchCV methods. \n",
    "RandomizedSearch CV is a hyperparameter tuning technique that randomly selects a subset of hyperparameters from a range of values to optimize the performance of a model, while GridSearch CV exhaustively searches over all possible combinations of hyperparameters but can be computationally expensive.\n",
    "\n",
    "This is how Randomized Search CV works:\n",
    "- K-fold cross-validation: split the dataset into k folds and run the ML model k times, with each fold serving as the test set once.\n",
    "- Run the ML model with several hyperparameter combinations.\n",
    "- Choose the hyperparameters that result in the best overall score (e.g., accuracy).\n",
    "\n",
    "\n",
    "Hyperparameters of Adaboost:\n",
    "- n_estimators = number of weak estimators (how many trees). The larger the better, but also the longer it will take to compute. In addition, note that results will stop getting significantly better beyond a critical number of trees.\n",
    "- learning_rate: contribution of each weak learner. Decreasing this value could help to limit the overfitting"
   ]
  },
  {
   "cell_type": "markdown",
   "metadata": {
    "id": "J_ElFNjq9jGS"
   },
   "source": [
    "### Adaboost"
   ]
  },
  {
   "cell_type": "code",
   "execution_count": 61,
   "metadata": {
    "id": "wJs9kMfvzasv"
   },
   "outputs": [
    {
     "name": "stdout",
     "output_type": "stream",
     "text": [
      "{'n_estimators': 200, 'learning_rate': 1.0}\n"
     ]
    }
   ],
   "source": [
    "#Model\n",
    "model = AdaBoostClassifier()\n",
    "\n",
    "#Define hyperparameters\n",
    "param_grid = {'n_estimators': [50, 100, 200], \n",
    "              'learning_rate': [0.1, 0.5, 1.0], \n",
    "              }\n",
    "\n",
    "#GridCross validation\n",
    "grid_search = RandomizedSearchCV(model, param_grid, cv=kfold)\n",
    "grid_search.fit(X_train_2, y_train)\n",
    "\n",
    "#check results\n",
    "print(grid_search.best_params_)\n",
    "\n",
    "#check parameters on test set\n",
    "best_ada_boost = grid_search.best_estimator_\n",
    "val_acc = best_ada_boost.score(X_test_2, y_test)\n"
   ]
  },
  {
   "cell_type": "code",
   "execution_count": 62,
   "metadata": {
    "id": "0nVRtiG2zasv"
   },
   "outputs": [
    {
     "name": "stdout",
     "output_type": "stream",
     "text": [
      "Validation accuracy Adaboost: 0.9262\n"
     ]
    }
   ],
   "source": [
    "print('Validation accuracy Adaboost:', round(val_acc, 4))"
   ]
  },
  {
   "cell_type": "markdown",
   "metadata": {
    "id": "AVi7AtIDjMc5"
   },
   "source": [
    "### Random Forest"
   ]
  },
  {
   "cell_type": "code",
   "execution_count": 63,
   "metadata": {
    "id": "3ilii35gjO-S"
   },
   "outputs": [
    {
     "name": "stdout",
     "output_type": "stream",
     "text": [
      "{'n_estimators': 100, 'max_leaf_nodes': 9, 'max_features': 'log2', 'max_depth': 6}\n"
     ]
    }
   ],
   "source": [
    "#Model\n",
    "model = RandomForestClassifier()\n",
    "\n",
    "#Define hyperparameters\n",
    "param_grid = [{'n_estimators': [25, 50, 100, 150],\n",
    "    'max_features': ['sqrt', 'log2', None],\n",
    "    'max_depth': [3, 6, 9],\n",
    "    'max_leaf_nodes': [3, 6, 9],\n",
    "}]\n",
    "\n",
    "#GridCross validation\n",
    "grid_search = RandomizedSearchCV(model, param_grid, cv=kfold)\n",
    "grid_search.fit(X_train_2, y_train)\n",
    "\n",
    "#check results\n",
    "print(grid_search.best_params_)\n",
    "\n",
    "#check parameters on test set\n",
    "best_log_boost = grid_search.best_estimator_\n",
    "val_acc = best_log_boost.score(X_test_2, y_test)"
   ]
  },
  {
   "cell_type": "code",
   "execution_count": 64,
   "metadata": {
    "id": "7-hFdvb_jVtd"
   },
   "outputs": [
    {
     "name": "stdout",
     "output_type": "stream",
     "text": [
      "Validation accuracy RandomForest: 0.8932\n"
     ]
    }
   ],
   "source": [
    "print('Validation accuracy RandomForest:', round(val_acc, 4))"
   ]
  },
  {
   "cell_type": "markdown",
   "metadata": {},
   "source": [
    "## Over model evaluation\n",
    "\n",
    "After tuning the hyperparameters and testing the ML models on a test dataset, the best performing model was found to be ADAboost with a validation accuracy of 0.9264. On the other hand, Random Forest underperformed on the test set with an accuracy of 0.89, compared to 0.96 on the training set, indicating overfitting. \n",
    "\n",
    "Therefore, the final best model chosen is Adaboost."
   ]
  },
  {
   "cell_type": "markdown",
   "metadata": {
    "id": "UYsOOcKy9vUs"
   },
   "source": [
    "# Conclusion"
   ]
  },
  {
   "cell_type": "markdown",
   "metadata": {
    "id": "4JG_-XCB9y4A"
   },
   "source": [
    "## Key findings"
   ]
  },
  {
   "cell_type": "markdown",
   "metadata": {
    "id": "2cb7jXPb3Rxe"
   },
   "source": [
    "The best ML model for predicting client satisfaction of this airline company is Adaboost. The performance difference between feature selection and no feature selection is small. By removing eight features, the ML model's accuracy slightly decreased, but it improved computational efficiency as there were fewer features to compute.\n",
    "\n",
    "Accurancy without feature selection: 0.9295\n",
    "Accurancy with feature selection: 0.9264\n",
    "\n",
    "\n",
    "Overall, the features that are relevant for predicting customer satisfaction are:\n",
    "\n",
    "- Inflight WiFi services: Based on web research, it appears that only a few companies offer WiFi onboard, and this is a service that customers demand. It allows them to enjoy web entertainment during the flight, which is typically not available (e.g., watching a film without downloading it).\n",
    "- Online onboarding: The company's user-friendly application allows customers to book a flight and check-in easily on their phone, avoiding long queues at the terminal.\n",
    "- Seat comfort: Seat comfort is a key metric for customers who will spend a few hours sitting on a plane, especially for business travelers who highly value arriving at their destination relaxed."
   ]
  },
  {
   "cell_type": "markdown",
   "metadata": {
    "id": "AmBi1l8p98CF"
   },
   "source": [
    "## Project problems"
   ]
  },
  {
   "cell_type": "markdown",
   "metadata": {
    "id": "KmWnp3sb6eKH"
   },
   "source": [
    "Overal problem:\n",
    "The problem was to understand what are the main factors that drive customer satisfaction. Understand how the company can improve their services and improve its offering increase overal satisfaction.\n",
    "From a data exploration we have seen that mostly of the airline customers are business travelers whose have different needs. These needs we can find on the most relevant features which are:\n",
    "- Inflight wifi services: allows business travelers to do their business\n",
    "- Online onboarding: not wasting time on long quee at terminal\n",
    "- Seat comfort: allow them to work in a good enviornment without any seat problems\n",
    "\n",
    "Thanks to that we can say that, the airline company could increase the overal service quality related to business travelers for exploting this market segment (first ccustomers). An increase of these services would improve also overal client satisfaction.\n",
    "\n",
    "On the other hand, it shows also which kind of services it needs to improve for this clientela like departure & arrival time convenient which are different from business & personal trip. \n",
    "\n",
    "Project limits:\n",
    "- data could be biased due to the way on how this data are collected. Most of the clients have a fidelity program (positive biased for satisfied people)\n",
    "- Lack of relevant information such as ticket prices for both personal and business, extra services price etc\n",
    "\n",
    "\n",
    "\n"
   ]
  },
  {
   "cell_type": "markdown",
   "metadata": {
    "id": "pHUtSCHY-RFD"
   },
   "source": [
    "## Future analysis\n",
    "\n",
    "A deeper analyses could be done and explorating why personal travel choose this airline company eventhough the lack of services related to them. \n",
    "- What is the price gap between business trips and personal trips\n",
    "- How they are compared with others airline company? \n",
    "- Are they profitable?\n",
    "- What is the sustainability of their business?\n",
    "\n",
    "For concluding, the project provides valuable insights into improving customer satisfaction for business travelers, but further investigation and analysis would be necessary to make more informed decisions."
   ]
  }
 ],
 "metadata": {
  "colab": {
   "name": "",
   "version": ""
  },
  "kernelspec": {
   "display_name": "Python 3 (ipykernel)",
   "language": "python",
   "name": "python3"
  },
  "language_info": {
   "codemirror_mode": {
    "name": "ipython",
    "version": 3
   },
   "file_extension": ".py",
   "mimetype": "text/x-python",
   "name": "python",
   "nbconvert_exporter": "python",
   "pygments_lexer": "ipython3",
   "version": "3.9.16"
  }
 },
 "nbformat": 4,
 "nbformat_minor": 1
}
